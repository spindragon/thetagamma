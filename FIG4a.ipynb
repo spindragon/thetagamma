{
 "cells": [
  {
   "cell_type": "markdown",
   "metadata": {
    "toc-hr-collapsed": false
   },
   "source": [
    "# Test Attractor Dynamics with LIF Neurons"
   ]
  },
  {
   "cell_type": "code",
   "execution_count": 1,
   "metadata": {},
   "outputs": [],
   "source": [
    "# Imports and funcs\n",
    "%matplotlib widget\n",
    "from brian2 import *\n",
    "import numpy as np\n",
    "import scipy.sparse as sp\n",
    "import excitation_schedule as es\n",
    "import brian_weight_submatrix as bws\n",
    "import diagonal_sums as ds\n",
    "import time"
   ]
  },
  {
   "cell_type": "code",
   "execution_count": 2,
   "metadata": {},
   "outputs": [],
   "source": [
    "start_scope()\n",
    "# The following line suppresses a warning about order of executions in the abstract code: \"v_post = clip(v_post + w, v_gaba, 0)\"\n",
    "# As far as I can tell, the warning is due to the inability of the OOE checker to deal with the \"clip()\" function, and is ok in this case\n",
    "BrianLogger.suppress_hierarchy('brian2.codegen')\n",
    "\n",
    "seed(seed=1)\n",
    "\n",
    "################## INDEPENDENT PARAMETERS ################\n",
    "# Node parameters\n",
    "t_mem = 10*ms\n",
    "t_adapt_e = 100*ms\n",
    "t_adapt_i = 100*ms\n",
    "t_refract_e = 6.3*ms       # 6.3 ± 1.7 Raastad 2003\n",
    "t_refract_std_e = 1.7*ms\n",
    "t_refract_i = 5*ms # jittered with std=1 below\n",
    "v_rest = -70*mV\n",
    "v_adapt_step_e = 6*mV # 4\n",
    "v_adapt_step_i = 5*mV # 4\n",
    "v_thresh = -50*mV\n",
    "v_reset = -65*mV\n",
    "v_gaba = -80*mV\n",
    "\n",
    "# Network parameters\n",
    "net_size = 1.0*cm # circumference of toroidal network - brain width: mouse=1cm, human=15cm\n",
    "nxe = 100 #100\n",
    "nye = 100 #100\n",
    "nxi = 40 #40\n",
    "nyi = 40 #40\n",
    "p0ee = 0.8\n",
    "lradee = 30 # in units of neuron spacing\n",
    "p0ei = 0.4\n",
    "lradei = 2 # in units of neuron spacing\n",
    "p0ie = 0.3\n",
    "lradie = 5 # [5] in units of neuron spacing\n",
    "wbase_ee = 0.0\n",
    "wrange_ee = 0.5\n",
    "wbase_ei = 3.0\n",
    "wrange_ei = 6.0\n",
    "wbase_ie = -4.0\n",
    "wrange_ie = -5.0\n",
    "delay_ee = True\n",
    "dendritic_delay_min = 2.0 * ms # 3ms from Jarsky NatNeuro 2005\n",
    "dendritic_delay_range = 2.0 * ms\n",
    "conduction_velocity = 5.0 * meter / second\n",
    "\n",
    "# STDP parameters\n",
    "t_stdppre = 20.0 * ms\n",
    "t_stdppost = 20.0 * ms\n",
    "dApre = 0.16 * mV # 0.2\n",
    "STDP_neg_pos_ratio = 1.05 # 1.05 Greater than 1 favors decay of weights\n",
    "wmax = 5.0 * mV # Need about 20mV to trigger a spike\n",
    "STDP_delayed = True\n",
    "\n",
    "# Stimulus parameters\n",
    "attractor_size = 500\n",
    "attractor_type = 'random' # 'random' or 'circular'\n",
    "stim_freq = 8.0 # Hz\n",
    "stim_duty = 0.25 # 0.25\n",
    "stim_time = 1100 * ms # 1100\n",
    "stim_dt = 1 * ms\n",
    "stim_rate = 200 * Hz # 200\n",
    "stim_ramp_on = 0.1\n",
    "stim_ramp_off = 0.1\n",
    "restim_delay = 0 * ms # 200\n",
    "restim_time = 10 * ms # 10\n",
    "restim_runtime = 140 * ms # 200\n",
    "restim_fraction = 0.25 # 0.2\n",
    "restim_density = 1.0 # 1.0\n",
    "\n",
    "attractor_N = 3\n",
    "attractor_cycles = 1\n",
    "disjoint_attractors = False\n",
    "\n",
    "# Timing parameters\n",
    "defaultclock.dt = 0.01*ms\n",
    "\n",
    "################## CALCULATED PARAMETERS ################\n",
    "# Network geometry\n",
    "Ne = nxe * nye\n",
    "Ni = nxi * nyi\n",
    "dxe = net_size / nxe\n",
    "dye = net_size / nye\n",
    "dxi = net_size / nxi\n",
    "dyi = net_size / nyi\n",
    "\n",
    "# STDP\n",
    "dApost = -dApre * t_stdppre / t_stdppost * STDP_neg_pos_ratio\n",
    "\n",
    "########################## ATTRACTOR ########################\n",
    "# Set attractor nodes\n",
    "attractor_nodes = []\n",
    "attractor_index = []\n",
    "if disjoint_attractors:\n",
    "    all_anodes = np.random.choice(Ne,(attractor_N,attractor_size),replace=False)\n",
    "for ia in range(attractor_N):\n",
    "    if disjoint_attractors:\n",
    "        anodes = all_anodes[ia,:]\n",
    "    else:\n",
    "        anodes = np.random.choice(Ne,attractor_size,replace=False)\n",
    "    if attractor_type == 'circular':\n",
    "        anodes = np.sort(anodes)\n",
    "    attractor_nodes.append(anodes)\n",
    "    attractor_index.append({e:i for i,e in enumerate(anodes)}) # lookup dictionary for getting attractor index from node number\n",
    "all_attractor_nodes = np.concatenate(attractor_nodes)\n",
    "\n",
    "########################## STIMULUS ########################\n",
    "# Set stimulus\n",
    "nstim = int((stim_time+restim_delay)/stim_dt)\n",
    "ex = np.zeros((attractor_N*nstim,attractor_N*attractor_size))\n",
    "nex1 = int(stim_time/stim_dt)\n",
    "for iex in range(attractor_N):\n",
    "    ex1 = es.excitation_schedule(attractor_size,'circular',stim_dt/ms,stim_time/ms,stim_duty,stim_freq,ramp_on=stim_ramp_on,ramp_off=stim_ramp_off)\n",
    "    ex[iex*nstim:iex*nstim+nex1,iex*attractor_size:(iex+1)*attractor_size] = ex1\n",
    "stimulus_teach = TimedArray(ex*stim_rate,dt=stim_dt)\n",
    "\n",
    "# Set overlapping restim to teach connections\n",
    "nrestim = int(restim_runtime/stim_dt)\n",
    "restim = np.zeros((attractor_cycles*attractor_N*nrestim,attractor_N*attractor_size))\n",
    "for iex in range(attractor_cycles*attractor_N):\n",
    "    restim_nodes = np.random.choice(int(attractor_size * restim_fraction),int(attractor_size * restim_fraction * restim_density))\n",
    "    restim[iex*nrestim:iex*nrestim+int(restim_time/stim_dt),(iex%attractor_N)*attractor_size+restim_nodes] = 1.\n",
    "stimulus_connect = TimedArray(restim*stim_rate,dt=stim_dt)\n",
    "\n",
    "# Test by stimulating just one attractor\n",
    "atest = 0\n",
    "testim = np.zeros((attractor_N*nrestim,attractor_N*attractor_size))\n",
    "testim_nodes = np.random.choice(int(attractor_size * restim_fraction),int(attractor_size * restim_fraction * restim_density))\n",
    "testim[:int(restim_time/stim_dt),atest*attractor_size+testim_nodes] = 1.\n",
    "stimulus_test = TimedArray(testim*stim_rate,dt=stim_dt)\n",
    "\n",
    "########################## MODEL ########################\n",
    "# E nodes decay towards v_rest-v_adapt, and v_adapt decays towards 0\n",
    "eqs_e = '''\n",
    "dv/dt = (v_rest-v-v_adapt)/t_mem : volt (unless refractory)\n",
    "dv_adapt/dt = (-v_adapt)/t_adapt_e : volt\n",
    "x : meter\n",
    "y : meter\n",
    "net_size : meter\n",
    "refract : second\n",
    "'''\n",
    "reset_e = '''\n",
    "v = v_reset\n",
    "v_adapt += v_adapt_step_e\n",
    "'''\n",
    "\n",
    "# I nodes decay towards v_rest-v_adapt, and v_adapt decays towards 0\n",
    "eqs_i = '''\n",
    "dv/dt = (v_rest-v-v_adapt)/t_mem : volt (unless refractory)\n",
    "dv_adapt/dt = (-v_adapt)/t_adapt_i : volt\n",
    "x : meter\n",
    "y : meter\n",
    "net_size : meter\n",
    "refract : second\n",
    "'''\n",
    "reset_i = '''\n",
    "v = v_reset\n",
    "v_adapt += v_adapt_step_i\n",
    "'''\n",
    "\n",
    "# STDP Synapse equations\n",
    "STDP_eqs = '''\n",
    "w : volt\n",
    "dApre/dt = -Apre / t_stdppre : volt (event-driven)\n",
    "dApost/dt = -Apost / t_stdppost : volt (event-driven)\n",
    "'''\n",
    "STDP_onpre = '''\n",
    "v_post += w\n",
    "Apre += dApre\n",
    "'''\n",
    "STDP_onpost = '''\n",
    "Apost += dApost\n",
    "'''\n",
    "if STDP_delayed:        # Accumulate prospective changes in dw to apply later\n",
    "    STDP_eqs = STDP_eqs + 'dw : volt\\n'\n",
    "    STDP_onpre = STDP_onpre + 'dw += Apost\\n'\n",
    "    STDP_onpost = STDP_onpost + 'dw += Apre\\n'\n",
    "else:                   # Apply weight changes immediately\n",
    "    STDP_onpre = STDP_onpre + 'w = clip(w + Apost, 0, wmax)\\n'\n",
    "    STDP_onpost = STDP_onpost + 'w = clip(w + Apre, 0, wmax)\\n'\n",
    "    \n",
    "# Lorentz connection probability (mod (%) stuff makes it toroidal)\n",
    "pLorentz = 'p0 / (1 + (((x_pre-x_post + 1.5*net_size_post) % net_size_post - 0.5*net_size_post)**2 \\\n",
    "                     + ((y_pre-y_post + 1.5*net_size_post) % net_size_post - 0.5*net_size_post)**2) / (lrad)**2)'\n",
    "\n",
    "# Calculated conduction delay (mod (%) stuff makes it toroidal)\n",
    "conduction_delay = 'dendritic_delay_min + rand() * dendritic_delay_range \\\n",
    "                        + sqrt( (((x_pre-x_post + 1.5*net_size_post) % net_size_post - 0.5*net_size_post)**2 \\\n",
    "                        + ((y_pre-y_post + 1.5*net_size_post) % net_size_post - 0.5*net_size_post)**2) ) / conduction_velocity'\n",
    "\n",
    "###################### CONSTRUCT NETWORK ####################\n",
    "# Generate nodes\n",
    "PGteach = PoissonGroup(attractor_N*attractor_size, rates='stimulus_teach(t,i)',name='PGteach')\n",
    "PGconnect  = PoissonGroup(attractor_N*attractor_size, rates='stimulus_connect(t,i)',name='PGconnect')\n",
    "PGtest  = PoissonGroup(attractor_N*attractor_size, rates='stimulus_test(t,i)',name='PGtest')\n",
    "E = NeuronGroup(nxe * nye, eqs_e, threshold='v>v_thresh', reset=reset_e, refractory='refract', method='euler', name='E')\n",
    "I = NeuronGroup(nxi * nyi, eqs_i, threshold='v>v_thresh', reset=reset_i, refractory='refract', method='euler', name='I')\n",
    "\n",
    "# set neuron locations (zero indexed, so net is in quadrant 1)\n",
    "E.x = '(i % nxe) * dxe'\n",
    "E.y = '(i // nxe) * dye'\n",
    "I.x = '(i % nxi) * dxi'\n",
    "I.y = '(i // nxi) * dyi'\n",
    "E.net_size = net_size\n",
    "I.net_size = net_size\n",
    "\n",
    "# Set refractory periods with jitter\n",
    "E.refract = t_refract_e + t_refract_std_e * randn(len(E))\n",
    "I.refract = t_refract_i * (1.0 + 0.2 * randn(len(I)))\n",
    "\n",
    "# Connect Poisson Groups to E\n",
    "SPGteach = Synapses(PGteach, E, on_pre='v_post += 50*mV') # 50 guarantees firing of post\n",
    "SPGteach.connect(i=np.arange(attractor_N*attractor_size),j=all_attractor_nodes)\n",
    "SPGconnect  = Synapses(PGconnect, E, on_pre='v_post += 50*mV') # 50 guarantees firing of post\n",
    "SPGconnect.connect(i=np.arange(attractor_N*attractor_size),j=all_attractor_nodes)\n",
    "SPGtest  = Synapses(PGtest, E, on_pre='v_post += 50*mV') # 50 guarantees firing of post\n",
    "SPGtest.connect(i=np.arange(attractor_N*attractor_size),j=all_attractor_nodes)\n",
    "\n",
    "# Connect EE, EI, IE\n",
    "# No self connections in EE network\n",
    "SEE = Synapses(E, E, STDP_eqs, on_pre=STDP_onpre, on_post=STDP_onpost, name='EE')\n",
    "SEE.variables.add_constant('p0',p0ee)\n",
    "SEE.variables.add_constant('lrad',lradee * net_size / nxe) # Convert from neuron spacing units to meters here\n",
    "SEE.connect(condition = 'i != j', p=pLorentz)\n",
    "SEE.w = '(wbase_ee + wrange_ee*rand())*mV'\n",
    "if delay_ee == True:\n",
    "    SEE.delay = conduction_delay\n",
    "\n",
    "SEI = Synapses(E, I, 'w : volt', on_pre='v_post += w', name='EI')\n",
    "SEI.variables.add_constant('p0',p0ei)\n",
    "SEI.variables.add_constant('lrad',lradei * net_size / nxi) # Convert from neuron spacing units to meters here\n",
    "SEI.connect(p=pLorentz)\n",
    "SEI.w = '(wbase_ei + wrange_ei*rand())*mV'\n",
    "\n",
    "SIE = Synapses(I, E, 'w : volt', on_pre='v_post = clip((v_post + w), v_gaba, 0)', name='IE')\n",
    "SIE.variables.add_constant('p0',p0ie)\n",
    "SIE.variables.add_constant('lrad',lradie * net_size / nxe) # Convert from neuron spacing units to meters here\n",
    "SIE.connect(p=pLorentz)\n",
    "SIE.w = '(wbase_ie + wrange_ie*rand())*mV'\n",
    "\n",
    "########################## GO ########################\n",
    "# Monitor stuff\n",
    "MSE = SpikeMonitor(E,name='Espikemon')\n",
    "# MSI = SpikeMonitor(I,name='Ispikemon')\n",
    "# MVE = StateMonitor(E,'v',True,dt=max(defaultclock.dt,1.*ms),name='Estatemon')\n",
    "# MVI = StateMonitor(I,'v',True,dt=max(defaultclock.dt,1.*ms),name='Istatemon')\n",
    "\n",
    "# Initialize nodes at v_rest\n",
    "E.v = v_rest\n",
    "I.v = v_rest\n",
    "store('state')\n",
    "\n",
    "# Initialize records for each teach/test period\n",
    "time_record = []\n",
    "spike_record = []\n",
    "\n",
    "# Train on each attractor\n",
    "PGconnect.active = False # only teacher for now\n",
    "PGtest.active = False # only teacher for now\n",
    "run(attractor_N * (stim_time + restim_delay) )\n",
    "time_record.append(MSE.t/ms)\n",
    "spike_record.append(1*MSE.i)\n",
    "\n",
    "# Update weights and sequentially stimulate attractors\n",
    "dw0 = 1.0 * SEE.dw # Multiply by 1.0 to force copy\n",
    "restore('state')\n",
    "SEE.w = clip(SEE.w + dw0,0,wmax)\n",
    "store('state')\n",
    "SEE.dw = 0\n",
    "PGteach.active = False\n",
    "PGconnect.active = True\n",
    "w1 = bws.brian_weight_submatrix(SEE,all_attractor_nodes,all_attractor_nodes)\n",
    "run(attractor_cycles * attractor_N * restim_runtime)\n",
    "time_record.append(MSE.t/ms)\n",
    "spike_record.append(1*MSE.i)\n",
    "\n",
    "# Update weights and stimulate just one attractor\n",
    "dw0 = 1.0 * SEE.dw # Multiply by 1.0 to force copy\n",
    "restore('state')\n",
    "SEE.w = clip(SEE.w + 0.25*dw0,0,wmax)\n",
    "PGconnect.active = False\n",
    "PGtest.active = True\n",
    "w2 = bws.brian_weight_submatrix(SEE,all_attractor_nodes,all_attractor_nodes)\n",
    "SEE.dw = 0\n",
    "run(attractor_N * restim_runtime)\n",
    "time_record.append(MSE.t/ms)\n",
    "spike_record.append(1*MSE.i)\n"
   ]
  },
  {
   "cell_type": "code",
   "execution_count": 3,
   "metadata": {},
   "outputs": [
    {
     "data": {
      "application/vnd.jupyter.widget-view+json": {
       "model_id": "d1fc9d72f29446968878aea0b5556c83",
       "version_major": 2,
       "version_minor": 0
      },
      "text/plain": [
       "Canvas(toolbar=Toolbar(toolitems=[('Home', 'Reset original view', 'home', 'home'), ('Back', 'Back to previous …"
      ]
     },
     "metadata": {},
     "output_type": "display_data"
    },
    {
     "name": "stderr",
     "output_type": "stream",
     "text": [
      "WARNING    <ipython-input-3-8d8aba4971fc>:12: MatplotlibDeprecationWarning: Adding an axes using the same arguments as a previous axes currently reuses the earlier instance.  In a future version, a new instance will always be created and returned.  Meanwhile, this warning can be suppressed, and the future behavior ensured, by passing a unique label to each axes instance.\n",
      "  subplot(1,3,idx+1)\n",
      " [py.warnings]\n",
      "WARNING    <ipython-input-3-8d8aba4971fc>:12: MatplotlibDeprecationWarning: Adding an axes using the same arguments as a previous axes currently reuses the earlier instance.  In a future version, a new instance will always be created and returned.  Meanwhile, this warning can be suppressed, and the future behavior ensured, by passing a unique label to each axes instance.\n",
      "  subplot(1,3,idx+1)\n",
      " [py.warnings]\n",
      "WARNING    <ipython-input-3-8d8aba4971fc>:12: MatplotlibDeprecationWarning: Adding an axes using the same arguments as a previous axes currently reuses the earlier instance.  In a future version, a new instance will always be created and returned.  Meanwhile, this warning can be suppressed, and the future behavior ensured, by passing a unique label to each axes instance.\n",
      "  subplot(1,3,idx+1)\n",
      " [py.warnings]\n",
      "WARNING    <ipython-input-3-8d8aba4971fc>:12: MatplotlibDeprecationWarning: Adding an axes using the same arguments as a previous axes currently reuses the earlier instance.  In a future version, a new instance will always be created and returned.  Meanwhile, this warning can be suppressed, and the future behavior ensured, by passing a unique label to each axes instance.\n",
      "  subplot(1,3,idx+1)\n",
      " [py.warnings]\n",
      "WARNING    <ipython-input-3-8d8aba4971fc>:12: MatplotlibDeprecationWarning: Adding an axes using the same arguments as a previous axes currently reuses the earlier instance.  In a future version, a new instance will always be created and returned.  Meanwhile, this warning can be suppressed, and the future behavior ensured, by passing a unique label to each axes instance.\n",
      "  subplot(1,3,idx+1)\n",
      " [py.warnings]\n",
      "WARNING    <ipython-input-3-8d8aba4971fc>:12: MatplotlibDeprecationWarning: Adding an axes using the same arguments as a previous axes currently reuses the earlier instance.  In a future version, a new instance will always be created and returned.  Meanwhile, this warning can be suppressed, and the future behavior ensured, by passing a unique label to each axes instance.\n",
      "  subplot(1,3,idx+1)\n",
      " [py.warnings]\n"
     ]
    }
   ],
   "source": [
    "figure(figsize=(12,4))\n",
    "\n",
    "period = (0,1,2)\n",
    "for idx,per in enumerate(period):\n",
    "    for ia in range(attractor_N):\n",
    "        spikes_in_attractor = np.isin(spike_record[per],attractor_nodes[ia])\n",
    "        z = spike_record[per][spikes_in_attractor]\n",
    "        spikes = np.ndarray(z.shape)\n",
    "        for node in attractor_index[ia]:\n",
    "            spikes[z==node] = attractor_index[ia][node]\n",
    "        time = time_record[per][spikes_in_attractor]\n",
    "        subplot(1,3,idx+1)\n",
    "        plot(time, spikes+ia*attractor_size, 'k.',markersize=2)\n",
    "        xlabel('Time (ms)')\n",
    "        ylabel('Neuron Index')\n",
    "\n",
    "tight_layout()\n"
   ]
  },
  {
   "cell_type": "code",
   "execution_count": 6,
   "metadata": {},
   "outputs": [
    {
     "data": {
      "application/vnd.jupyter.widget-view+json": {
       "model_id": "9f442635d02b4ea0b4fc4ff6aec21316",
       "version_major": 2,
       "version_minor": 0
      },
      "text/plain": [
       "Canvas(toolbar=Toolbar(toolitems=[('Home', 'Reset original view', 'home', 'home'), ('Back', 'Back to previous …"
      ]
     },
     "metadata": {},
     "output_type": "display_data"
    }
   ],
   "source": [
    "wN = np.zeros((attractor_N*attractor_size,attractor_N*attractor_size))\n",
    "diags = []\n",
    "for iin in range(attractor_N):\n",
    "    for iout in range(attractor_N):\n",
    "        submat = bws.brian_weight_submatrix(SEE,attractor_nodes[iin],attractor_nodes[iout])\n",
    "        wN[iout*attractor_size:(iout+1)*attractor_size,iin*attractor_size:(iin+1)*attractor_size] = submat\n",
    "        diags.append(ds.diagonal_sums(submat))\n",
    "figure(figsize=(12,6))\n",
    "subplot(121)\n",
    "imshow(wN)\n",
    "subplot(122)\n",
    "plot(np.asarray(diags).T)\n",
    "tight_layout()"
   ]
  },
  {
   "cell_type": "code",
   "execution_count": 5,
   "metadata": {},
   "outputs": [
    {
     "data": {
      "text/plain": [
       "[array([2.2000e+00, 3.0000e+00, 3.0000e+00, ..., 3.2942e+03, 3.2956e+03,\n",
       "        3.2978e+03]),\n",
       " array([4.000e-01, 4.000e-01, 6.000e-01, ..., 4.198e+02, 4.198e+02,\n",
       "        4.198e+02]),\n",
       " array([2.000e-01, 2.000e-01, 2.000e-01, ..., 4.198e+02, 4.198e+02,\n",
       "        4.198e+02])]"
      ]
     },
     "execution_count": 5,
     "metadata": {},
     "output_type": "execute_result"
    }
   ],
   "source": [
    "time_record"
   ]
  },
  {
   "cell_type": "code",
   "execution_count": 28,
   "metadata": {},
   "outputs": [
    {
     "ename": "TypeError",
     "evalue": "only integer scalar arrays can be converted to a scalar index",
     "output_type": "error",
     "traceback": [
      "\u001b[0;31m---------------------------------------------------------------------------\u001b[0m",
      "\u001b[0;31mTypeError\u001b[0m                                 Traceback (most recent call last)",
      "\u001b[0;32m<ipython-input-28-548a63dded37>\u001b[0m in \u001b[0;36m<module>\u001b[0;34m\u001b[0m\n\u001b[1;32m      1\u001b[0m \u001b[0mattractor_indices_sorted\u001b[0m \u001b[0;34m=\u001b[0m \u001b[0mnp\u001b[0m\u001b[0;34m.\u001b[0m\u001b[0margsort\u001b[0m\u001b[0;34m(\u001b[0m\u001b[0mattractor_nodes\u001b[0m\u001b[0;34m)\u001b[0m\u001b[0;34m\u001b[0m\u001b[0;34m\u001b[0m\u001b[0m\n\u001b[0;32m----> 2\u001b[0;31m \u001b[0mattractor_sorted\u001b[0m \u001b[0;34m=\u001b[0m \u001b[0mattractor_nodes\u001b[0m\u001b[0;34m[\u001b[0m\u001b[0mattractor_indices_sorted\u001b[0m\u001b[0;34m]\u001b[0m\u001b[0;34m\u001b[0m\u001b[0;34m\u001b[0m\u001b[0m\n\u001b[0m\u001b[1;32m      3\u001b[0m \u001b[0mspikes_in_attractor\u001b[0m \u001b[0;34m=\u001b[0m \u001b[0mnp\u001b[0m\u001b[0;34m.\u001b[0m\u001b[0misin\u001b[0m\u001b[0;34m(\u001b[0m\u001b[0mMSE\u001b[0m\u001b[0;34m.\u001b[0m\u001b[0mi\u001b[0m\u001b[0;34m,\u001b[0m\u001b[0mattractor_nodes\u001b[0m\u001b[0;34m)\u001b[0m\u001b[0;34m\u001b[0m\u001b[0;34m\u001b[0m\u001b[0m\n\u001b[1;32m      4\u001b[0m \u001b[0midx_in_sort\u001b[0m \u001b[0;34m=\u001b[0m \u001b[0mnp\u001b[0m\u001b[0;34m.\u001b[0m\u001b[0msearchsorted\u001b[0m\u001b[0;34m(\u001b[0m\u001b[0mattractor_sorted\u001b[0m\u001b[0;34m,\u001b[0m\u001b[0mMSE\u001b[0m\u001b[0;34m.\u001b[0m\u001b[0mi\u001b[0m\u001b[0;34m[\u001b[0m\u001b[0mspikes_in_attractor\u001b[0m\u001b[0;34m]\u001b[0m\u001b[0;34m)\u001b[0m\u001b[0;34m\u001b[0m\u001b[0;34m\u001b[0m\u001b[0m\n\u001b[1;32m      5\u001b[0m \u001b[0mtime\u001b[0m \u001b[0;34m=\u001b[0m \u001b[0mMSE\u001b[0m\u001b[0;34m.\u001b[0m\u001b[0mt\u001b[0m\u001b[0;34m[\u001b[0m\u001b[0mspikes_in_attractor\u001b[0m\u001b[0;34m]\u001b[0m\u001b[0;34m/\u001b[0m\u001b[0mms\u001b[0m\u001b[0;34m\u001b[0m\u001b[0;34m\u001b[0m\u001b[0m\n",
      "\u001b[0;31mTypeError\u001b[0m: only integer scalar arrays can be converted to a scalar index"
     ]
    }
   ],
   "source": [
    "attractor_indices_sorted = np.argsort(attractor_nodes)\n",
    "attractor_sorted = attractor_nodes[attractor_indices_sorted]\n",
    "spikes_in_attractor = np.isin(MSE.i,attractor_nodes)\n",
    "idx_in_sort = np.searchsorted(attractor_sorted,MSE.i[spikes_in_attractor])\n",
    "time = MSE.t[spikes_in_attractor]/ms\n",
    "spikes = attractor_indices_sorted[idx_in_sort]\n",
    "\n",
    "figure(figsize=(12,12))\n",
    "subplot(331)\n",
    "plot(time, spikes, 'k.',markersize=2)\n",
    "\n",
    "subplot(332)\n",
    "wts = SEE.w/mV\n",
    "hist(wts[wts>1], 20)\n",
    "\n",
    "subplot(333)\n",
    "imshow(bws.brian_weight_submatrix(SEE,attractor_nodes,attractor_nodes))\n",
    "\n",
    "nbin = 800\n",
    "real,timeline = np.histogram(time,bins=nbin,weights=np.cos(2.0*np.pi*spikes/500))\n",
    "imag,timeline = np.histogram(time,bins=nbin,weights=np.sin(2.0*np.pi*spikes/500))\n",
    "cplx = real + 1.j * imag\n",
    "\n",
    "freq = 1000. * (angle(cplx[1:] / cplx[:-1])) / (2. * np.pi * (timeline[1]-timeline[0]))\n",
    "from scipy.signal import savgol_filter\n",
    "fhat = savgol_filter(freq, 21, 2) # window size 51, polynomial order 3\n",
    "\n",
    "subplot(336)\n",
    "plot(timeline[1:-1],freq)\n",
    "plot(timeline[1:-1],fhat,'r')\n",
    "\n",
    "subplot(339)\n",
    "plot(real,imag)\n",
    "scatter(real,imag,c=range(nbin),cmap='jet')\n",
    "\n",
    "subplot(334)\n",
    "imshow(MVE.v / mV,aspect='auto')\n",
    "subplot(335)\n",
    "plot(MSE.t/ms, MSE.i, 'ko')\n",
    "plot(MSE.t[spikes_in_attractor]/ms, MSE.i[spikes_in_attractor], 'r+')\n",
    "xlabel('Time (ms)')\n",
    "ylabel('Neuron index')\n",
    "subplot(337)\n",
    "imshow(MVI.v / mV,aspect='auto')\n",
    "subplot(338)\n",
    "plot(MSI.t/ms, MSI.i, '.k')\n",
    "xlabel('Time (ms)')\n",
    "ylabel('Neuron index')\n",
    "tight_layout()"
   ]
  },
  {
   "cell_type": "code",
   "execution_count": 4,
   "metadata": {},
   "outputs": [
    {
     "data": {
      "application/vnd.jupyter.widget-view+json": {
       "model_id": "59a6d0122df84702aab65d7249a0bfc4",
       "version_major": 2,
       "version_minor": 0
      },
      "text/plain": [
       "Canvas(toolbar=Toolbar(toolitems=[('Home', 'Reset original view', 'home', 'home'), ('Back', 'Back to previous …"
      ]
     },
     "metadata": {},
     "output_type": "display_data"
    }
   ],
   "source": [
    "tmin = 50\n",
    "tmax = tmin+100\n",
    "sseg = spikes[time>tmin]\n",
    "tseg = time[time>tmin]\n",
    "sseg = sseg[tseg<tmax]\n",
    "tseg = tseg[tseg<tmax]\n",
    "\n",
    "segfreq = np.full(attractor_size,np.nan)\n",
    "segphase = np.full(attractor_size,np.nan)\n",
    "tstart = np.amin(tseg)\n",
    "for inode in range(attractor_size):\n",
    "    times = tseg[np.argwhere(sseg==inode)]\n",
    "    if times.size > 1:\n",
    "        segfreq[inode] = 1000 * (times.size-1) / (np.amax(times)-np.amin(times))\n",
    "        segphase[inode] = (2.0e-3 * np.pi * (np.amin(times)-tstart) * segfreq[inode]) % (2*np.pi)\n",
    "\n",
    "figure(figsize=(12,3))\n",
    "subplot(141)\n",
    "plot(tseg, sseg, 'k.',markersize=2)\n",
    "subplot(142)\n",
    "#plot(segfreq)\n",
    "hist(segfreq[~np.isnan(segfreq)],20)\n",
    "subplot(143)\n",
    "#plot(segphase)\n",
    "scatter(attractor_nodes%nye,attractor_nodes//nye,c=segphase,cmap='gist_rainbow')\n",
    "colorbar()\n",
    "\n",
    "nbin = 80\n",
    "real,timeline = np.histogram(tseg,bins=nbin,weights=np.cos(2.0*np.pi*sseg/500))\n",
    "imag,timeline = np.histogram(tseg,bins=nbin,weights=np.sin(2.0*np.pi*sseg/500))\n",
    "cplx = real + 1.j * imag\n",
    "\n",
    "freq = 1000. * (angle(cplx[1:] / cplx[:-1])) / (2. * np.pi * (timeline[1]-timeline[0]))\n",
    "from scipy.signal import savgol_filter\n",
    "fhat = savgol_filter(freq, 11, 2) # window size 51, polynomial order 3\n",
    "\n",
    "subplot(144)\n",
    "plot(timeline[1:-1],freq)\n",
    "plot(timeline[1:-1],fhat,'r')\n",
    "\n",
    "tight_layout()"
   ]
  },
  {
   "cell_type": "code",
   "execution_count": 6,
   "metadata": {},
   "outputs": [
    {
     "data": {
      "application/vnd.jupyter.widget-view+json": {
       "model_id": "3849d5e236de477fb9cc3a319c9fd702",
       "version_major": 2,
       "version_minor": 0
      },
      "text/plain": [
       "Canvas(toolbar=Toolbar(toolitems=[('Home', 'Reset original view', 'home', 'home'), ('Back', 'Back to previous …"
      ]
     },
     "metadata": {},
     "output_type": "display_data"
    }
   ],
   "source": [
    "figure(figsize=(12,4))\n",
    "subplot(131)\n",
    "imshow(w1)\n",
    "colorbar()\n",
    "subplot(132)\n",
    "imshow(w2)\n",
    "colorbar()\n",
    "subplot(133)\n",
    "plot(ds.diagonal_sums(w1))\n",
    "plot(ds.diagonal_sums(w2),'r')\n",
    "tight_layout()"
   ]
  },
  {
   "cell_type": "code",
   "execution_count": 60,
   "metadata": {},
   "outputs": [
    {
     "data": {
      "text/html": [
       "\n",
       "        <table>\n",
       "        <thead>\n",
       "        <tr>\n",
       "            <th style=\"text-align: center;\">object</th>\n",
       "            <th style=\"text-align: center;\">part of</th>\n",
       "            <th style=\"text-align: center;\">Clock dt</th>\n",
       "            <th style=\"text-align: center;\">when</th>\n",
       "            <th style=\"text-align: center;\">order</th>\n",
       "            <th style=\"text-align: center;\">active</th>\n",
       "        </tr>\n",
       "        </thead>\n",
       "        <tbody>\n",
       "        <tr>\n",
       "            <td style=\"text-align: left;\"><b>Estatemon</b> (<em>StateMonitor</em>)</td>\n",
       "            <td style=\"text-align: left;\">Estatemon (<em>StateMonitor</em>)</td>\n",
       "            <td style=\"text-align: left;\">1. ms (every 5 steps)</td>\n",
       "            <td style=\"text-align: left;\">start</td>\n",
       "            <td style=\"text-align: right;\">0</td>\n",
       "            <td style=\"text-align: center;\">yes</td>\n",
       "        </tr>\n",
       "        \n",
       "        <tr>\n",
       "            <td style=\"text-align: left;\"><b>Istatemon</b> (<em>StateMonitor</em>)</td>\n",
       "            <td style=\"text-align: left;\">Istatemon (<em>StateMonitor</em>)</td>\n",
       "            <td style=\"text-align: left;\">1. ms (every 5 steps)</td>\n",
       "            <td style=\"text-align: left;\">start</td>\n",
       "            <td style=\"text-align: right;\">0</td>\n",
       "            <td style=\"text-align: center;\">yes</td>\n",
       "        </tr>\n",
       "        \n",
       "        <tr>\n",
       "            <td style=\"text-align: left;\"><b>E_stateupdater</b> (<em>StateUpdater</em>)</td>\n",
       "            <td style=\"text-align: left;\">E (<em>NeuronGroup</em>)</td>\n",
       "            <td style=\"text-align: left;\">200. us (every step)</td>\n",
       "            <td style=\"text-align: left;\">groups</td>\n",
       "            <td style=\"text-align: right;\">0</td>\n",
       "            <td style=\"text-align: center;\">yes</td>\n",
       "        </tr>\n",
       "        \n",
       "        <tr>\n",
       "            <td style=\"text-align: left;\"><b>I_stateupdater</b> (<em>StateUpdater</em>)</td>\n",
       "            <td style=\"text-align: left;\">I (<em>NeuronGroup</em>)</td>\n",
       "            <td style=\"text-align: left;\">200. us (every step)</td>\n",
       "            <td style=\"text-align: left;\">groups</td>\n",
       "            <td style=\"text-align: right;\">0</td>\n",
       "            <td style=\"text-align: center;\">yes</td>\n",
       "        </tr>\n",
       "        \n",
       "        <tr>\n",
       "            <td style=\"text-align: left;\"><b>E_thresholder</b> (<em>Thresholder</em>)</td>\n",
       "            <td style=\"text-align: left;\">E (<em>NeuronGroup</em>)</td>\n",
       "            <td style=\"text-align: left;\">200. us (every step)</td>\n",
       "            <td style=\"text-align: left;\">thresholds</td>\n",
       "            <td style=\"text-align: right;\">0</td>\n",
       "            <td style=\"text-align: center;\">yes</td>\n",
       "        </tr>\n",
       "        \n",
       "        <tr>\n",
       "            <td style=\"text-align: left;\"><b>I_thresholder</b> (<em>Thresholder</em>)</td>\n",
       "            <td style=\"text-align: left;\">I (<em>NeuronGroup</em>)</td>\n",
       "            <td style=\"text-align: left;\">200. us (every step)</td>\n",
       "            <td style=\"text-align: left;\">thresholds</td>\n",
       "            <td style=\"text-align: right;\">0</td>\n",
       "            <td style=\"text-align: center;\">yes</td>\n",
       "        </tr>\n",
       "        \n",
       "        <tr>\n",
       "            <td style=\"text-align: left;\"><b>PGteach_thresholder</b> (<em>Thresholder</em>)</td>\n",
       "            <td style=\"text-align: left;\">PGteach (<em>PoissonGroup</em>)</td>\n",
       "            <td style=\"text-align: left;\">200. us (every step)</td>\n",
       "            <td style=\"text-align: left;\">thresholds</td>\n",
       "            <td style=\"text-align: right;\">0</td>\n",
       "            <td style=\"text-align: center;\">no</td>\n",
       "        </tr>\n",
       "        \n",
       "        <tr>\n",
       "            <td style=\"text-align: left;\"><b>PGtest_thresholder</b> (<em>Thresholder</em>)</td>\n",
       "            <td style=\"text-align: left;\">PGtest (<em>PoissonGroup</em>)</td>\n",
       "            <td style=\"text-align: left;\">200. us (every step)</td>\n",
       "            <td style=\"text-align: left;\">thresholds</td>\n",
       "            <td style=\"text-align: right;\">0</td>\n",
       "            <td style=\"text-align: center;\">yes</td>\n",
       "        </tr>\n",
       "        \n",
       "        <tr>\n",
       "            <td style=\"text-align: left;\"><b>Espikemon</b> (<em>SpikeMonitor</em>)</td>\n",
       "            <td style=\"text-align: left;\">Espikemon (<em>SpikeMonitor</em>)</td>\n",
       "            <td style=\"text-align: left;\">200. us (every step)</td>\n",
       "            <td style=\"text-align: left;\">thresholds</td>\n",
       "            <td style=\"text-align: right;\">1</td>\n",
       "            <td style=\"text-align: center;\">yes</td>\n",
       "        </tr>\n",
       "        \n",
       "        <tr>\n",
       "            <td style=\"text-align: left;\"><b>Ispikemon</b> (<em>SpikeMonitor</em>)</td>\n",
       "            <td style=\"text-align: left;\">Ispikemon (<em>SpikeMonitor</em>)</td>\n",
       "            <td style=\"text-align: left;\">200. us (every step)</td>\n",
       "            <td style=\"text-align: left;\">thresholds</td>\n",
       "            <td style=\"text-align: right;\">1</td>\n",
       "            <td style=\"text-align: center;\">yes</td>\n",
       "        </tr>\n",
       "        \n",
       "        <tr>\n",
       "            <td style=\"text-align: left;\"><b>EE_pre</b> (<em>SynapticPathway</em>)</td>\n",
       "            <td style=\"text-align: left;\">EE (<em>Synapses</em>)</td>\n",
       "            <td style=\"text-align: left;\">200. us (every step)</td>\n",
       "            <td style=\"text-align: left;\">synapses</td>\n",
       "            <td style=\"text-align: right;\">-1</td>\n",
       "            <td style=\"text-align: center;\">yes</td>\n",
       "        </tr>\n",
       "        \n",
       "        <tr>\n",
       "            <td style=\"text-align: left;\"><b>EI_pre</b> (<em>SynapticPathway</em>)</td>\n",
       "            <td style=\"text-align: left;\">EI (<em>Synapses</em>)</td>\n",
       "            <td style=\"text-align: left;\">200. us (every step)</td>\n",
       "            <td style=\"text-align: left;\">synapses</td>\n",
       "            <td style=\"text-align: right;\">-1</td>\n",
       "            <td style=\"text-align: center;\">yes</td>\n",
       "        </tr>\n",
       "        \n",
       "        <tr>\n",
       "            <td style=\"text-align: left;\"><b>IE_pre</b> (<em>SynapticPathway</em>)</td>\n",
       "            <td style=\"text-align: left;\">IE (<em>Synapses</em>)</td>\n",
       "            <td style=\"text-align: left;\">200. us (every step)</td>\n",
       "            <td style=\"text-align: left;\">synapses</td>\n",
       "            <td style=\"text-align: right;\">-1</td>\n",
       "            <td style=\"text-align: center;\">yes</td>\n",
       "        </tr>\n",
       "        \n",
       "        <tr>\n",
       "            <td style=\"text-align: left;\"><b>synapses_1_pre</b> (<em>SynapticPathway</em>)</td>\n",
       "            <td style=\"text-align: left;\">synapses_1 (<em>Synapses</em>)</td>\n",
       "            <td style=\"text-align: left;\">200. us (every step)</td>\n",
       "            <td style=\"text-align: left;\">synapses</td>\n",
       "            <td style=\"text-align: right;\">-1</td>\n",
       "            <td style=\"text-align: center;\">yes</td>\n",
       "        </tr>\n",
       "        \n",
       "        <tr>\n",
       "            <td style=\"text-align: left;\"><b>synapses_2_pre</b> (<em>SynapticPathway</em>)</td>\n",
       "            <td style=\"text-align: left;\">synapses_2 (<em>Synapses</em>)</td>\n",
       "            <td style=\"text-align: left;\">200. us (every step)</td>\n",
       "            <td style=\"text-align: left;\">synapses</td>\n",
       "            <td style=\"text-align: right;\">-1</td>\n",
       "            <td style=\"text-align: center;\">yes</td>\n",
       "        </tr>\n",
       "        \n",
       "        <tr>\n",
       "            <td style=\"text-align: left;\"><b>EE_post</b> (<em>SynapticPathway</em>)</td>\n",
       "            <td style=\"text-align: left;\">EE (<em>Synapses</em>)</td>\n",
       "            <td style=\"text-align: left;\">200. us (every step)</td>\n",
       "            <td style=\"text-align: left;\">synapses</td>\n",
       "            <td style=\"text-align: right;\">1</td>\n",
       "            <td style=\"text-align: center;\">yes</td>\n",
       "        </tr>\n",
       "        \n",
       "        <tr>\n",
       "            <td style=\"text-align: left;\"><b>E_resetter</b> (<em>Resetter</em>)</td>\n",
       "            <td style=\"text-align: left;\">E (<em>NeuronGroup</em>)</td>\n",
       "            <td style=\"text-align: left;\">200. us (every step)</td>\n",
       "            <td style=\"text-align: left;\">resets</td>\n",
       "            <td style=\"text-align: right;\">0</td>\n",
       "            <td style=\"text-align: center;\">yes</td>\n",
       "        </tr>\n",
       "        \n",
       "        <tr>\n",
       "            <td style=\"text-align: left;\"><b>I_resetter</b> (<em>Resetter</em>)</td>\n",
       "            <td style=\"text-align: left;\">I (<em>NeuronGroup</em>)</td>\n",
       "            <td style=\"text-align: left;\">200. us (every step)</td>\n",
       "            <td style=\"text-align: left;\">resets</td>\n",
       "            <td style=\"text-align: right;\">0</td>\n",
       "            <td style=\"text-align: center;\">yes</td>\n",
       "        </tr>\n",
       "        \n",
       "        </tbody>\n",
       "        </table>\n",
       "        "
      ],
      "text/plain": [
       "             object               |         part of          |       Clock dt        |    when    | order | active\n",
       "----------------------------------+--------------------------+-----------------------+------------+-------+-------\n",
       "Estatemon (StateMonitor)          | Estatemon (StateMonitor) | 1. ms (every 5 steps) | start      |     0 |  yes  \n",
       "Istatemon (StateMonitor)          | Istatemon (StateMonitor) | 1. ms (every 5 steps) | start      |     0 |  yes  \n",
       "E_stateupdater (StateUpdater)     | E (NeuronGroup)          | 200. us (every step)  | groups     |     0 |  yes  \n",
       "I_stateupdater (StateUpdater)     | I (NeuronGroup)          | 200. us (every step)  | groups     |     0 |  yes  \n",
       "E_thresholder (Thresholder)       | E (NeuronGroup)          | 200. us (every step)  | thresholds |     0 |  yes  \n",
       "I_thresholder (Thresholder)       | I (NeuronGroup)          | 200. us (every step)  | thresholds |     0 |  yes  \n",
       "PGteach_thresholder (Thresholder) | PGteach (PoissonGroup)   | 200. us (every step)  | thresholds |     0 |   no  \n",
       "PGtest_thresholder (Thresholder)  | PGtest (PoissonGroup)    | 200. us (every step)  | thresholds |     0 |  yes  \n",
       "Espikemon (SpikeMonitor)          | Espikemon (SpikeMonitor) | 200. us (every step)  | thresholds |     1 |  yes  \n",
       "Ispikemon (SpikeMonitor)          | Ispikemon (SpikeMonitor) | 200. us (every step)  | thresholds |     1 |  yes  \n",
       "EE_pre (SynapticPathway)          | EE (Synapses)            | 200. us (every step)  | synapses   |    -1 |  yes  \n",
       "EI_pre (SynapticPathway)          | EI (Synapses)            | 200. us (every step)  | synapses   |    -1 |  yes  \n",
       "IE_pre (SynapticPathway)          | IE (Synapses)            | 200. us (every step)  | synapses   |    -1 |  yes  \n",
       "synapses_1_pre (SynapticPathway)  | synapses_1 (Synapses)    | 200. us (every step)  | synapses   |    -1 |  yes  \n",
       "synapses_2_pre (SynapticPathway)  | synapses_2 (Synapses)    | 200. us (every step)  | synapses   |    -1 |  yes  \n",
       "EE_post (SynapticPathway)         | EE (Synapses)            | 200. us (every step)  | synapses   |     1 |  yes  \n",
       "E_resetter (Resetter)             | E (NeuronGroup)          | 200. us (every step)  | resets     |     0 |  yes  \n",
       "I_resetter (Resetter)             | I (NeuronGroup)          | 200. us (every step)  | resets     |     0 |  yes  "
      ]
     },
     "execution_count": 60,
     "metadata": {},
     "output_type": "execute_result"
    }
   ],
   "source": [
    "scheduling_summary()"
   ]
  },
  {
   "cell_type": "code",
   "execution_count": 12,
   "metadata": {},
   "outputs": [
    {
     "name": "stdout",
     "output_type": "stream",
     "text": [
      "[3226 5172 5591 8404 8501 7016 9897 8302 9239  427] [2181 2331 3422 5214 5363 6134 2589 6564 6863 7385] (9403,) (1816,)\n"
     ]
    }
   ],
   "source": [
    "print(spike_record[0][:10],spike_record[1][:10],spike_record[0].shape,spike_record[1].shape)"
   ]
  },
  {
   "cell_type": "code",
   "execution_count": 9,
   "metadata": {},
   "outputs": [
    {
     "data": {
      "application/vnd.jupyter.widget-view+json": {
       "model_id": "9de019f5b019456ea040f00e42a532ce",
       "version_major": 2,
       "version_minor": 0
      },
      "text/plain": [
       "Canvas(toolbar=Toolbar(toolitems=[('Home', 'Reset original view', 'home', 'home'), ('Back', 'Back to previous …"
      ]
     },
     "metadata": {},
     "output_type": "display_data"
    },
    {
     "name": "stderr",
     "output_type": "stream",
     "text": [
      "WARNING    <ipython-input-9-f9826f9c0588>:15: MatplotlibDeprecationWarning: Adding an axes using the same arguments as a previous axes currently reuses the earlier instance.  In a future version, a new instance will always be created and returned.  Meanwhile, this warning can be suppressed, and the future behavior ensured, by passing a unique label to each axes instance.\n",
      "  subplot(131)\n",
      " [py.warnings]\n",
      "WARNING    <ipython-input-9-f9826f9c0588>:20: MatplotlibDeprecationWarning: Adding an axes using the same arguments as a previous axes currently reuses the earlier instance.  In a future version, a new instance will always be created and returned.  Meanwhile, this warning can be suppressed, and the future behavior ensured, by passing a unique label to each axes instance.\n",
      "  subplot(132)\n",
      " [py.warnings]\n",
      "WARNING    <ipython-input-9-f9826f9c0588>:24: MatplotlibDeprecationWarning: Adding an axes using the same arguments as a previous axes currently reuses the earlier instance.  In a future version, a new instance will always be created and returned.  Meanwhile, this warning can be suppressed, and the future behavior ensured, by passing a unique label to each axes instance.\n",
      "  subplot(133)\n",
      " [py.warnings]\n"
     ]
    },
    {
     "data": {
      "text/plain": [
       "[<matplotlib.lines.Line2D at 0x7f882002a0a0>]"
      ]
     },
     "execution_count": 9,
     "metadata": {},
     "output_type": "execute_result"
    }
   ],
   "source": [
    "figure(figsize=(12,4))\n",
    "subplot(131)\n",
    "idx = 0\n",
    "targets = SEE.j[idx, :] \n",
    "plot(E.x[targets] / cm, E.y[targets] / cm, 'r.')\n",
    "\n",
    "subplot(132)\n",
    "targets = SEI.j[idx, :] \n",
    "plot(I.x[targets] / cm, I.y[targets] / cm, 'r.')\n",
    "\n",
    "subplot(133)\n",
    "targets = SIE.j[idx, :] \n",
    "plot(E.x[targets] / cm, E.y[targets] / cm, 'r.')\n",
    "\n",
    "subplot(131)\n",
    "idx = 5150\n",
    "targets = SEE.j[idx, :] \n",
    "plot(E.x[targets] / cm, E.y[targets] / cm, '.')\n",
    "\n",
    "subplot(132)\n",
    "targets = SEI.j[idx, :] \n",
    "plot(I.x[targets] / cm, I.y[targets] / cm, '.')\n",
    "\n",
    "subplot(133)\n",
    "idx = 820\n",
    "targets = SIE.j[idx, :] \n",
    "plot(E.x[targets] / cm, E.y[targets] / cm, '.')"
   ]
  },
  {
   "cell_type": "code",
   "execution_count": 4,
   "metadata": {},
   "outputs": [
    {
     "name": "stdout",
     "output_type": "stream",
     "text": [
      "0.23094016687739957 0.2412829279812967 250000 38810 1.4876331285583586\n"
     ]
    }
   ],
   "source": [
    "print(np.mean(w1),np.mean(w2),w1.size,np.count_nonzero(w1),np.mean(w1)*w1.size/np.count_nonzero(w1))\n"
   ]
  },
  {
   "cell_type": "code",
   "execution_count": 4,
   "metadata": {},
   "outputs": [],
   "source": [
    "import pickle\n",
    "time = MSE.t[spikes_in_attractor]/ms\n",
    "spikes = attractor_indices_sorted[idx_in_sort]\n",
    "mylist = [time,spikes]\n",
    "with open('example_spikes2.pkl', 'wb') as f:\n",
    "    pickle.dump(mylist, f)"
   ]
  },
  {
   "cell_type": "code",
   "execution_count": 10,
   "metadata": {},
   "outputs": [
    {
     "name": "stdout",
     "output_type": "stream",
     "text": [
      "<defaultclock.t: 2.8 * second>\n"
     ]
    }
   ],
   "source": [
    "print(defaultclock.t)"
   ]
  },
  {
   "cell_type": "code",
   "execution_count": 35,
   "metadata": {},
   "outputs": [
    {
     "name": "stdout",
     "output_type": "stream",
     "text": [
      "False\n"
     ]
    }
   ],
   "source": [
    "print(not STDP_immediate)"
   ]
  },
  {
   "cell_type": "code",
   "execution_count": 7,
   "metadata": {},
   "outputs": [],
   "source": [
    "with open('params.csv', 'w') as f:\n",
    "    f.write(s)"
   ]
  },
  {
   "cell_type": "code",
   "execution_count": 11,
   "metadata": {},
   "outputs": [
    {
     "data": {
      "text/plain": [
       "['__add__',\n",
       " '__array__',\n",
       " '__array_prepare__',\n",
       " '__array_wrap__',\n",
       " '__class__',\n",
       " '__delattr__',\n",
       " '__dict__',\n",
       " '__dir__',\n",
       " '__div__',\n",
       " '__doc__',\n",
       " '__eq__',\n",
       " '__floordiv__',\n",
       " '__format__',\n",
       " '__ge__',\n",
       " '__getattribute__',\n",
       " '__getitem__',\n",
       " '__gt__',\n",
       " '__hash__',\n",
       " '__iadd__',\n",
       " '__idiv__',\n",
       " '__imul__',\n",
       " '__init__',\n",
       " '__init_subclass__',\n",
       " '__isub__',\n",
       " '__le__',\n",
       " '__len__',\n",
       " '__lt__',\n",
       " '__module__',\n",
       " '__mul__',\n",
       " '__ne__',\n",
       " '__neg__',\n",
       " '__new__',\n",
       " '__pos__',\n",
       " '__radd__',\n",
       " '__rdiv__',\n",
       " '__reduce__',\n",
       " '__reduce_ex__',\n",
       " '__repr__',\n",
       " '__rfloordiv__',\n",
       " '__rmul__',\n",
       " '__rsub__',\n",
       " '__rtruediv__',\n",
       " '__setattr__',\n",
       " '__setitem__',\n",
       " '__sizeof__',\n",
       " '__str__',\n",
       " '__sub__',\n",
       " '__subclasshook__',\n",
       " '__truediv__',\n",
       " '__weakref__',\n",
       " 'dim',\n",
       " 'dtype',\n",
       " 'get_item',\n",
       " 'get_subexpression_with_index_array',\n",
       " 'get_with_expression',\n",
       " 'get_with_index_array',\n",
       " 'group',\n",
       " 'group_name',\n",
       " 'index_var',\n",
       " 'index_var_name',\n",
       " 'indexing',\n",
       " 'name',\n",
       " 'set_item',\n",
       " 'set_with_expression',\n",
       " 'set_with_expression_conditional',\n",
       " 'set_with_index_array',\n",
       " 'shape',\n",
       " 'unit',\n",
       " 'variable']"
      ]
     },
     "execution_count": 11,
     "metadata": {},
     "output_type": "execute_result"
    }
   ],
   "source": [
    "dir(SEE.delay)"
   ]
  },
  {
   "cell_type": "code",
   "execution_count": 17,
   "metadata": {},
   "outputs": [
    {
     "name": "stdout",
     "output_type": "stream",
     "text": [
      "1.27121989 ms (19181504,) (19181504,)\n"
     ]
    }
   ],
   "source": [
    "print(SEE.delay[323],SEE.j.shape,SEE.w.shape)"
   ]
  },
  {
   "cell_type": "code",
   "execution_count": 17,
   "metadata": {},
   "outputs": [
    {
     "name": "stdout",
     "output_type": "stream",
     "text": [
      "(406,)\n"
     ]
    }
   ],
   "source": [
    "print(segfreq[~np.isnan(segfreq)].T.shape)"
   ]
  },
  {
   "cell_type": "code",
   "execution_count": 8,
   "metadata": {},
   "outputs": [
    {
     "name": "stdout",
     "output_type": "stream",
     "text": [
      "(500,)\n"
     ]
    }
   ],
   "source": [
    "print(segfreq.shape)"
   ]
  },
  {
   "cell_type": "code",
   "execution_count": null,
   "metadata": {},
   "outputs": [],
   "source": []
  }
 ],
 "metadata": {
  "kernelspec": {
   "display_name": "Python 3",
   "language": "python",
   "name": "python3"
  },
  "language_info": {
   "codemirror_mode": {
    "name": "ipython",
    "version": 3
   },
   "file_extension": ".py",
   "mimetype": "text/x-python",
   "name": "python",
   "nbconvert_exporter": "python",
   "pygments_lexer": "ipython3",
   "version": "3.8.2"
  },
  "toc-autonumbering": true,
  "toc-showcode": false,
  "toc-showmarkdowntxt": false,
  "toc-showtags": false
 },
 "nbformat": 4,
 "nbformat_minor": 4
}
