{
 "cells": [
  {
   "cell_type": "markdown",
   "metadata": {
    "toc-hr-collapsed": false
   },
   "source": [
    "# Test Attractor Dynamics with LIF Neurons"
   ]
  },
  {
   "cell_type": "code",
   "execution_count": 1,
   "metadata": {},
   "outputs": [],
   "source": [
    "# Imports and funcs\n",
    "%matplotlib widget\n",
    "from brian2 import *\n",
    "import numpy as np\n",
    "import scipy.sparse as sp\n",
    "import excitation_schedule as es\n",
    "import brian_weight_submatrix as bws\n",
    "import diagonal_sums as ds\n",
    "import spikes_to_pcs as stp\n",
    "import time\n",
    "import pickle"
   ]
  },
  {
   "cell_type": "code",
   "execution_count": 32,
   "metadata": {},
   "outputs": [
    {
     "name": "stdout",
     "output_type": "stream",
     "text": [
      "0 1 2 "
     ]
    }
   ],
   "source": [
    "start_scope()\n",
    "# The following line suppresses a warning about order of executions in the abstract code: \"v_post = clip(v_post + w, v_gaba, 0)\"\n",
    "# As far as I can tell, the warning is due to the inability of the OOE checker to deal with the \"clip()\" function, and is ok in this case\n",
    "BrianLogger.suppress_hierarchy('brian2.codegen')\n",
    "\n",
    "seed(seed=1)\n",
    "\n",
    "################## INDEPENDENT PARAMETERS ################\n",
    "# Node parameters\n",
    "t_mem = 10*ms\n",
    "t_adapt_e = 100*ms\n",
    "t_adapt_i = 100*ms\n",
    "t_refract_e = 6.3*ms       # 6.3 ± 1.7 Raastad 2003\n",
    "t_refract_std_e = 1.7*ms\n",
    "t_refract_i = 5*ms # jittered with std=1 below\n",
    "v_rest = -70*mV\n",
    "v_adapt_step_e = 6*mV # 4\n",
    "v_adapt_step_i = 5*mV # 4\n",
    "v_thresh = -50*mV\n",
    "v_reset = -65*mV\n",
    "v_gaba = -80*mV\n",
    "\n",
    "# Network parameters\n",
    "net_size = 15.0*cm # circumference of toroidal network - brain width: mouse=1cm, human=15cm\n",
    "nxe = 100 #100\n",
    "nye = 100 #100\n",
    "nxi = 40 #40\n",
    "nyi = 40 #40\n",
    "p0ee = 0.8\n",
    "lradee = 30 # in units of neuron spacing\n",
    "p0ei = 0.4\n",
    "lradei = 2 # in units of neuron spacing\n",
    "p0ie = 0.3\n",
    "lradie = 5 # [5] in units of neuron spacing\n",
    "wbase_ee = 0.0\n",
    "wrange_ee = 0.2 # 0.5\n",
    "wbase_ei = 3.0\n",
    "wrange_ei = 6.0\n",
    "wbase_ie = -4.0\n",
    "wrange_ie = -5.0\n",
    "delay_ee = True\n",
    "dendritic_delay_min = 2.0 * ms # 3ms from Jarsky NatNeuro 2005\n",
    "dendritic_delay_range = 2.0 * ms\n",
    "conduction_velocity = 5.0 * meter / second\n",
    "\n",
    "# STDP parameters\n",
    "t_stdppre = 20.0 * ms\n",
    "t_stdppost = 20.0 * ms\n",
    "dApre = 0.1245 * mV # 0.3 goes into short oscillation at d=.25\n",
    "STDP_neg_pos_ratio = 1.05 # 1.05 Greater than 1 favors decay of weights\n",
    "wmax = 5.0 * mV # Need about 20mV to trigger a spike\n",
    "STDP_delayed = 0.0 # real time switch\n",
    "\n",
    "# Stimulus parameters\n",
    "attractor_size = 500\n",
    "attractor_type = 'random' # 'random' or 'circular'\n",
    "stim_freq = 8.0 # Hz\n",
    "stim_duty = 0.5 # 0.25\n",
    "stim_time = 1100 * ms # 1100\n",
    "stim_dt = 1 * ms\n",
    "stim_rate = 200 * Hz # 200\n",
    "stim_ramp_on = 0.1\n",
    "stim_ramp_off = 0.1\n",
    "restim_delay = 0 * ms # 200\n",
    "restim_time = 10 * ms # 10\n",
    "restim_runtime = 1000 * ms # 200\n",
    "restim_fraction = 0.25 # 0.2\n",
    "restim_density = 1.0 # 1.0\n",
    "restim_N = 2\n",
    "\n",
    "# Timing parameters\n",
    "defaultclock.dt = 0.01*ms\n",
    "\n",
    "################## CALCULATED PARAMETERS ################\n",
    "# Network geometry\n",
    "Ne = nxe * nye\n",
    "Ni = nxi * nyi\n",
    "dxe = net_size / nxe\n",
    "dye = net_size / nye\n",
    "dxi = net_size / nxi\n",
    "dyi = net_size / nyi\n",
    "\n",
    "# STDP\n",
    "dApost = -dApre * t_stdppre / t_stdppost * STDP_neg_pos_ratio\n",
    "\n",
    "########################## ATTRACTOR ########################\n",
    "# Set attractor nodes\n",
    "attractor_nodes = np.random.choice(Ne,attractor_size,replace=False)\n",
    "if attractor_type == 'circular':\n",
    "    attractor_nodes = np.sort(attractor_nodes)\n",
    "attractor_index = {e:i for i,e in enumerate(attractor_nodes)} # lookup dictionary for getting attractor index from node number\n",
    "\n",
    "########################## STIMULUS ########################\n",
    "# Set stimulus\n",
    "ex = es.excitation_schedule(attractor_size,'circular',stim_dt/ms,stim_time/ms,stim_duty,stim_freq,ramp_on=stim_ramp_on,ramp_off=stim_ramp_off)\n",
    "ex = np.vstack((ex,np.zeros((int(restim_delay/stim_dt),attractor_size))))\n",
    "stimulus_teach = TimedArray(ex*stim_rate,dt=stim_dt)\n",
    "\n",
    "restim = np.zeros((int(restim_runtime/stim_dt),attractor_size))\n",
    "restim_nodes = np.random.choice(int(attractor_size * restim_fraction),int(attractor_size * restim_fraction * restim_density))\n",
    "restim[:int(restim_time/stim_dt),restim_nodes] = 1.\n",
    "stimulus_test = TimedArray(restim*stim_rate,dt=stim_dt)\n",
    "\n",
    "########################## MODEL ########################\n",
    "# E nodes decay towards v_rest-v_adapt, and v_adapt decays towards 0\n",
    "eqs_e = '''\n",
    "dv/dt = (v_rest-v-v_adapt)/t_mem : volt (unless refractory)\n",
    "dv_adapt/dt = (-v_adapt)/t_adapt_e : volt\n",
    "x : meter\n",
    "y : meter\n",
    "net_size : meter\n",
    "refract : second\n",
    "'''\n",
    "reset_e = '''\n",
    "v = v_reset\n",
    "v_adapt += v_adapt_step_e\n",
    "'''\n",
    "\n",
    "# I nodes decay towards v_rest-v_adapt, and v_adapt decays towards 0\n",
    "eqs_i = '''\n",
    "dv/dt = (v_rest-v-v_adapt)/t_mem : volt (unless refractory)\n",
    "dv_adapt/dt = (-v_adapt)/t_adapt_i : volt\n",
    "x : meter\n",
    "y : meter\n",
    "net_size : meter\n",
    "refract : second\n",
    "'''\n",
    "reset_i = '''\n",
    "v = v_reset\n",
    "v_adapt += v_adapt_step_i\n",
    "'''\n",
    "\n",
    "# STDP Synapse equations\n",
    "# STDP_delayed is now a real time switch\n",
    "STDP_eqs = '''\n",
    "w : volt\n",
    "dApre/dt = -Apre / t_stdppre : volt (event-driven)\n",
    "dApost/dt = -Apost / t_stdppost : volt (event-driven)\n",
    "dw : volt\n",
    "'''\n",
    "STDP_onpre = '''\n",
    "v_post += w\n",
    "Apre += dApre\n",
    "dw += STDP_delayed * Apost\n",
    "w = clip(w + (1.0-STDP_delayed) * Apost, 0, wmax)\n",
    "'''\n",
    "STDP_onpost = '''\n",
    "Apost += dApost\n",
    "dw += STDP_delayed * Apre\n",
    "w = clip(w + (1.0-STDP_delayed) * Apre, 0, wmax)\n",
    "'''\n",
    "\n",
    "# Lorentz connection probability (mod (%) stuff makes it toroidal)\n",
    "pLorentz = 'p0 / (1 + (((x_pre-x_post + 1.5*net_size_post) % net_size_post - 0.5*net_size_post)**2 \\\n",
    "                     + ((y_pre-y_post + 1.5*net_size_post) % net_size_post - 0.5*net_size_post)**2) / (lrad)**2)'\n",
    "\n",
    "# Calculated conduction delay (mod (%) stuff makes it toroidal)\n",
    "conduction_delay = 'dendritic_delay_min + rand() * dendritic_delay_range \\\n",
    "                        + sqrt( (((x_pre-x_post + 1.5*net_size_post) % net_size_post - 0.5*net_size_post)**2 \\\n",
    "                        + ((y_pre-y_post + 1.5*net_size_post) % net_size_post - 0.5*net_size_post)**2) ) / conduction_velocity'\n",
    "\n",
    "###################### CONSTRUCT NETWORK ####################\n",
    "# Generate nodes\n",
    "PGteach = PoissonGroup(attractor_size, rates='stimulus_teach(t,i)',name='PGteach')\n",
    "PGtest  = PoissonGroup(attractor_size, rates='stimulus_test(t,i)',name='PGtest')\n",
    "E = NeuronGroup(nxe * nye, eqs_e, threshold='v>v_thresh', reset=reset_e, refractory='refract', method='euler', name='E')\n",
    "I = NeuronGroup(nxi * nyi, eqs_i, threshold='v>v_thresh', reset=reset_i, refractory='refract', method='euler', name='I')\n",
    "\n",
    "# set neuron locations (zero indexed, so net is in quadrant 1)\n",
    "E.x = '(i % nxe) * dxe'\n",
    "E.y = '(i // nxe) * dye'\n",
    "I.x = '(i % nxi) * dxi'\n",
    "I.y = '(i // nxi) * dyi'\n",
    "E.net_size = net_size\n",
    "I.net_size = net_size\n",
    "\n",
    "# Set refractory periods with jitter\n",
    "E.refract = t_refract_e + t_refract_std_e * randn(len(E))\n",
    "I.refract = t_refract_i * (1.0 + 0.2 * randn(len(I)))\n",
    "\n",
    "# Connect Poisson Groups to E\n",
    "SPGteach = Synapses(PGteach, E, on_pre='v_post += 50*mV') # 50 guarantees firing of post\n",
    "SPGteach.connect(i=np.arange(attractor_size),j=attractor_nodes)\n",
    "SPGtest  = Synapses(PGtest, E, on_pre='v_post += 50*mV') # 50 guarantees firing of post\n",
    "SPGtest.connect(i=np.arange(attractor_size),j=attractor_nodes)\n",
    "\n",
    "\n",
    "# Connect EE, EI, IE\n",
    "# No self connections in EE network\n",
    "SEE = Synapses(E, E, STDP_eqs, on_pre=STDP_onpre, on_post=STDP_onpost, name='EE')\n",
    "SEE.variables.add_constant('p0',p0ee)\n",
    "SEE.variables.add_constant('lrad',lradee * net_size / nxe) # Convert from neuron spacing units to meters here\n",
    "SEE.connect(condition = 'i != j', p=pLorentz)\n",
    "SEE.w = '(wbase_ee + wrange_ee*rand())*mV'\n",
    "if delay_ee == True:\n",
    "    SEE.delay = conduction_delay\n",
    "\n",
    "SEI = Synapses(E, I, 'w : volt', on_pre='v_post += w', name='EI')\n",
    "SEI.variables.add_constant('p0',p0ei)\n",
    "SEI.variables.add_constant('lrad',lradei * net_size / nxi) # Convert from neuron spacing units to meters here\n",
    "SEI.connect(p=pLorentz)\n",
    "SEI.w = '(wbase_ei + wrange_ei*rand())*mV'\n",
    "\n",
    "SIE = Synapses(I, E, 'w : volt', on_pre='v_post = clip((v_post + w), v_gaba, 0)', name='IE')\n",
    "SIE.variables.add_constant('p0',p0ie)\n",
    "SIE.variables.add_constant('lrad',lradie * net_size / nxe) # Convert from neuron spacing units to meters here\n",
    "SIE.connect(p=pLorentz)\n",
    "SIE.w = '(wbase_ie + wrange_ie*rand())*mV'\n",
    "\n",
    "########################## GO ########################\n",
    "# Monitor stuff\n",
    "MSE = SpikeMonitor(E,name='Espikemon')\n",
    "# MSI = SpikeMonitor(I,name='Ispikemon')\n",
    "# MVE = StateMonitor(E,'wsum',True,dt=max(defaultclock.dt,1.*ms),name='Estatemon')\n",
    "# MVI = StateMonitor(I,'v',True,dt=max(defaultclock.dt,1.*ms),name='Istatemon')\n",
    "\n",
    "# Initialize nodes at v_rest\n",
    "E.v = v_rest\n",
    "I.v = v_rest\n",
    "store('initial_state')\n",
    "\n",
    "wts_in_attractor = bws.brian_weights_in_subset(SEE,attractor_nodes,attractor_nodes)\n",
    "\n",
    "# Break up run into little pieces to grab the sum of the weight matrix as we go\n",
    "STDP_delayed = 1.0\n",
    "PGtest.active = False # only teacher for now\n",
    "wdt = 10*ms\n",
    "wsumrec = []\n",
    "wrec = []\n",
    "for it in range(int(stim_time/wdt)):\n",
    "    run(wdt)\n",
    "    wsumrec.append(np.sum(SEE.w[wts_in_attractor]/mV))\n",
    "\n",
    "dw0 = 1.0 * SEE.dw # Multiply by 1.0 to force copy\n",
    "restore('initial_state')\n",
    "SEE.w = clip(SEE.w + dw0,0,wmax)\n",
    "SEE.dw = 0\n",
    "\n",
    "wrec.append(bws.brian_weight_submatrix(SEE,attractor_nodes,attractor_nodes))\n",
    "print(0, end = \" \")\n",
    "\n",
    "PGteach.active = False\n",
    "PGtest.active = True\n",
    "STDP_delayed = 0.0\n",
    "for istep in range(restim_N):\n",
    "    for it in range(int(restim_runtime/wdt)):\n",
    "        run(wdt)\n",
    "        wsumrec.append(np.sum(SEE.w[wts_in_attractor]/mV))\n",
    "    wrec.append(bws.brian_weight_submatrix(SEE,attractor_nodes,attractor_nodes))\n",
    "    if istep==0:\n",
    "#        dApost = -dApre\n",
    "        dApost *= 2\n",
    "        dApre *= 2\n",
    "\n",
    "    print(istep+1, end = \" \")\n"
   ]
  },
  {
   "cell_type": "code",
   "execution_count": 37,
   "metadata": {},
   "outputs": [
    {
     "name": "stderr",
     "output_type": "stream",
     "text": [
      "WARNING    <ipython-input-37-235ce8cfc826>:8: RuntimeWarning: More than 20 figures have been opened. Figures created through the pyplot interface (`matplotlib.pyplot.figure`) are retained until explicitly closed and may consume too much memory. (To control this warning, see the rcParam `figure.max_open_warning`).\n",
      "  figure(figsize=(8,8))\n",
      " [py.warnings]\n"
     ]
    },
    {
     "data": {
      "application/vnd.jupyter.widget-view+json": {
       "model_id": "919077f3556949f6b6537685842e4492",
       "version_major": 2,
       "version_minor": 0
      },
      "text/plain": [
       "Canvas(toolbar=Toolbar(toolitems=[('Home', 'Reset original view', 'home', 'home'), ('Back', 'Back to previous …"
      ]
     },
     "metadata": {},
     "output_type": "display_data"
    }
   ],
   "source": [
    "spikes_in_attractor = np.isin(MSE.i,attractor_nodes)\n",
    "z = MSE.i[spikes_in_attractor]\n",
    "spikes = np.ndarray(z.shape)\n",
    "for node in attractor_index:\n",
    "    spikes[z==node] = attractor_index[node]\n",
    "tspike = MSE.t[spikes_in_attractor]/ms\n",
    "\n",
    "figure(figsize=(8,8))\n",
    "subplot(221)\n",
    "plot(tspike, spikes, 'k.',markersize=1)\n",
    "\n",
    "subplot(222)\n",
    "#wts = SEE.w/mV\n",
    "#hist(wts[wts>1], 20)\n",
    "for it in range(restim_N+1):\n",
    "    plot(np.arange(attractor_size)-attractor_size/2,ds.diagonal_sums(wrec[it]))\n",
    "\n",
    "subplot(223)\n",
    "imshow(wrec[0],vmax=3)\n",
    "#plot(wsumrec)\n",
    " \n",
    "subplot(224)\n",
    "imshow(wrec[2],vmax=3)\n",
    "tight_layout()"
   ]
  },
  {
   "cell_type": "code",
   "execution_count": 6,
   "metadata": {},
   "outputs": [],
   "source": [
    "mylist = [tspike,spikes]\n",
    "with open('chaos_spikes.pkl', 'wb') as f:\n",
    "    pickle.dump(mylist, f)"
   ]
  },
  {
   "cell_type": "code",
   "execution_count": 2,
   "metadata": {},
   "outputs": [],
   "source": [
    "with open('chaos_spikes.pkl', 'rb') as f:\n",
    "    mylist = pickle.load(f)\n",
    "tspike = mylist[0]\n",
    "spikes = mylist[1]"
   ]
  },
  {
   "cell_type": "code",
   "execution_count": 41,
   "metadata": {},
   "outputs": [
    {
     "name": "stderr",
     "output_type": "stream",
     "text": [
      "WARNING    <ipython-input-41-bfb8ccc419c2>:1: RuntimeWarning: More than 20 figures have been opened. Figures created through the pyplot interface (`matplotlib.pyplot.figure`) are retained until explicitly closed and may consume too much memory. (To control this warning, see the rcParam `figure.max_open_warning`).\n",
      "  figure(figsize=(10,5))\n",
      " [py.warnings]\n"
     ]
    },
    {
     "data": {
      "application/vnd.jupyter.widget-view+json": {
       "model_id": "15259bece181436bb7e91dafa376b5f1",
       "version_major": 2,
       "version_minor": 0
      },
      "text/plain": [
       "Canvas(toolbar=Toolbar(toolitems=[('Home', 'Reset original view', 'home', 'home'), ('Back', 'Back to previous …"
      ]
     },
     "metadata": {},
     "output_type": "display_data"
    },
    {
     "name": "stdout",
     "output_type": "stream",
     "text": [
      "PCA: explained variance ratio:  [0.36083653 0.35054917 0.12228152 0.11798827 0.0136867  0.01300519]\n"
     ]
    },
    {
     "data": {
      "text/plain": [
       "(array([  1.,   3.,   2.,   0.,   0.,   2.,   1.,   0.,   2.,   3.,   4.,\n",
       "          1.,   1.,   0.,   3.,   2.,   3.,   4.,   5.,   1.,   4.,   1.,\n",
       "          3.,   4.,   5.,   3.,   6.,   1.,   2.,   4.,   1.,   3.,   1.,\n",
       "          2.,   5.,   0.,   5.,   6.,   4.,   6.,   3.,   9.,   1.,   4.,\n",
       "          3.,   2.,   6.,   3.,   7.,   4.,   2.,   5.,   2.,   2.,   3.,\n",
       "          2.,   7.,   0.,   4.,   7.,   5.,   3.,   7.,   2.,   7.,   7.,\n",
       "          6.,  15.,  10.,   6.,   8.,  13.,   6.,   8.,   9.,   8.,  12.,\n",
       "         13.,   9.,   9.,  10.,   8.,  17.,  10.,  11.,   8.,  12.,  12.,\n",
       "         21.,   7.,  13.,  17.,  12.,  16.,  16.,  17.,  18.,  16.,  16.,\n",
       "         15.,  22.,  19.,  22.,  11.,  24.,  18.,  20.,  33.,  22.,  25.,\n",
       "         27.,  33.,  31.,  20.,   0.,  22.,  46.,  31.,  34.,  43.,  39.,\n",
       "         44.,  32.,  37.,  22.,  44.,  45.,  46.,  56.,  34.,  50.,  51.,\n",
       "         45.,  44.,  46.,  69.,  49.,  60.,  67.,  65.,  48.,  65.,  88.,\n",
       "         80.,  66.,  71.,  70.,  64.,  64.,  77.,  86.,  90.,  77.,  66.,\n",
       "         83.,  75.,  92., 102.,  83.,  93., 111., 106.,  99., 107., 112.,\n",
       "         89., 113., 120.,  89., 123.,  91.,   0., 105., 113., 102., 117.,\n",
       "        102., 119., 120., 110., 101., 132., 109., 108., 108., 110.,  89.,\n",
       "         99.,  88., 117., 120., 110.,  87.,  87.,  98., 109., 108.,  82.,\n",
       "         85.,  95.,  83.,  96.,  77., 104., 105., 107.,  70.,  77., 108.,\n",
       "         74.,  78.,  58.,  76.,  79.,  76.,  70.,  64.,  71.,  62.,  58.,\n",
       "         70.,  66.,  53.,  49.,  51.,  68.,  56.,  44.,   0.,  55.,  54.,\n",
       "         43.,  62.,  57.,  53.,  45.,  23.,  43.,  44.,  47.,  36.,  29.,\n",
       "         38.,  26.,  32.,  33.,  30.,  24.,  22.,  37.,  27.,  31.,  22.,\n",
       "         26.,  26.,  30.,  24.,  16.,  22.,  29.,  21.,  22.,  17.,  27.,\n",
       "         25.,  15.,  15.,  23.,  26.,  18.,   6.,  13.,  13.,  14.,  13.,\n",
       "         14.,  12.,  17.,  15.,  12.,   9.,  10.,   8.,  10.,  12.,   0.,\n",
       "          8.,   7.,   5.,   9.,   9.,   5.,   6.,   6.,  10.,  11.,  12.,\n",
       "          2.,   6.,   9.,   4.,  10.,   7.,   3.,   9.,   7.,   2.,   4.,\n",
       "          2.,   3.,   6.,   5.,  10.,   9.,  10.,   3.,   4.,   2.,   7.,\n",
       "          4.,   2.,   2.,   4.,   2.,   1.,   1.,   2.,   4.,   5.,   2.,\n",
       "          4.,   9.,   2.,   3.,   2.,   3.,   2.,   6.,   6.,   2.,   1.,\n",
       "          2.,   0.,   4.,   0.,   3.,   1.,   2.,   2.,   1.,   1.,   4.,\n",
       "          4.,   3.,   0.,   4.,   2.,   0.,   0.,   2.,   0.,   3.,   0.,\n",
       "          2.,   4.,   1.,   0.,   4.,   1.,   0.,   1.,   1.,   0.,   2.,\n",
       "          0.,   0.,   2.,   2.,   3.,   1.,   1.,   2.,   1.,   1.,   1.,\n",
       "          2.,   0.,   0.,   0.,   0.,   0.,   0.,   0.,   1.,   1.,   0.,\n",
       "          0.,   0.,   0.,   2.]),\n",
       " array([38.01    , 38.019825, 38.02965 , 38.039475, 38.0493  , 38.059125,\n",
       "        38.06895 , 38.078775, 38.0886  , 38.098425, 38.10825 , 38.118075,\n",
       "        38.1279  , 38.137725, 38.14755 , 38.157375, 38.1672  , 38.177025,\n",
       "        38.18685 , 38.196675, 38.2065  , 38.216325, 38.22615 , 38.235975,\n",
       "        38.2458  , 38.255625, 38.26545 , 38.275275, 38.2851  , 38.294925,\n",
       "        38.30475 , 38.314575, 38.3244  , 38.334225, 38.34405 , 38.353875,\n",
       "        38.3637  , 38.373525, 38.38335 , 38.393175, 38.403   , 38.412825,\n",
       "        38.42265 , 38.432475, 38.4423  , 38.452125, 38.46195 , 38.471775,\n",
       "        38.4816  , 38.491425, 38.50125 , 38.511075, 38.5209  , 38.530725,\n",
       "        38.54055 , 38.550375, 38.5602  , 38.570025, 38.57985 , 38.589675,\n",
       "        38.5995  , 38.609325, 38.61915 , 38.628975, 38.6388  , 38.648625,\n",
       "        38.65845 , 38.668275, 38.6781  , 38.687925, 38.69775 , 38.707575,\n",
       "        38.7174  , 38.727225, 38.73705 , 38.746875, 38.7567  , 38.766525,\n",
       "        38.77635 , 38.786175, 38.796   , 38.805825, 38.81565 , 38.825475,\n",
       "        38.8353  , 38.845125, 38.85495 , 38.864775, 38.8746  , 38.884425,\n",
       "        38.89425 , 38.904075, 38.9139  , 38.923725, 38.93355 , 38.943375,\n",
       "        38.9532  , 38.963025, 38.97285 , 38.982675, 38.9925  , 39.002325,\n",
       "        39.01215 , 39.021975, 39.0318  , 39.041625, 39.05145 , 39.061275,\n",
       "        39.0711  , 39.080925, 39.09075 , 39.100575, 39.1104  , 39.120225,\n",
       "        39.13005 , 39.139875, 39.1497  , 39.159525, 39.16935 , 39.179175,\n",
       "        39.189   , 39.198825, 39.20865 , 39.218475, 39.2283  , 39.238125,\n",
       "        39.24795 , 39.257775, 39.2676  , 39.277425, 39.28725 , 39.297075,\n",
       "        39.3069  , 39.316725, 39.32655 , 39.336375, 39.3462  , 39.356025,\n",
       "        39.36585 , 39.375675, 39.3855  , 39.395325, 39.40515 , 39.414975,\n",
       "        39.4248  , 39.434625, 39.44445 , 39.454275, 39.4641  , 39.473925,\n",
       "        39.48375 , 39.493575, 39.5034  , 39.513225, 39.52305 , 39.532875,\n",
       "        39.5427  , 39.552525, 39.56235 , 39.572175, 39.582   , 39.591825,\n",
       "        39.60165 , 39.611475, 39.6213  , 39.631125, 39.64095 , 39.650775,\n",
       "        39.6606  , 39.670425, 39.68025 , 39.690075, 39.6999  , 39.709725,\n",
       "        39.71955 , 39.729375, 39.7392  , 39.749025, 39.75885 , 39.768675,\n",
       "        39.7785  , 39.788325, 39.79815 , 39.807975, 39.8178  , 39.827625,\n",
       "        39.83745 , 39.847275, 39.8571  , 39.866925, 39.87675 , 39.886575,\n",
       "        39.8964  , 39.906225, 39.91605 , 39.925875, 39.9357  , 39.945525,\n",
       "        39.95535 , 39.965175, 39.975   , 39.984825, 39.99465 , 40.004475,\n",
       "        40.0143  , 40.024125, 40.03395 , 40.043775, 40.0536  , 40.063425,\n",
       "        40.07325 , 40.083075, 40.0929  , 40.102725, 40.11255 , 40.122375,\n",
       "        40.1322  , 40.142025, 40.15185 , 40.161675, 40.1715  , 40.181325,\n",
       "        40.19115 , 40.200975, 40.2108  , 40.220625, 40.23045 , 40.240275,\n",
       "        40.2501  , 40.259925, 40.26975 , 40.279575, 40.2894  , 40.299225,\n",
       "        40.30905 , 40.318875, 40.3287  , 40.338525, 40.34835 , 40.358175,\n",
       "        40.368   , 40.377825, 40.38765 , 40.397475, 40.4073  , 40.417125,\n",
       "        40.42695 , 40.436775, 40.4466  , 40.456425, 40.46625 , 40.476075,\n",
       "        40.4859  , 40.495725, 40.50555 , 40.515375, 40.5252  , 40.535025,\n",
       "        40.54485 , 40.554675, 40.5645  , 40.574325, 40.58415 , 40.593975,\n",
       "        40.6038  , 40.613625, 40.62345 , 40.633275, 40.6431  , 40.652925,\n",
       "        40.66275 , 40.672575, 40.6824  , 40.692225, 40.70205 , 40.711875,\n",
       "        40.7217  , 40.731525, 40.74135 , 40.751175, 40.761   , 40.770825,\n",
       "        40.78065 , 40.790475, 40.8003  , 40.810125, 40.81995 , 40.829775,\n",
       "        40.8396  , 40.849425, 40.85925 , 40.869075, 40.8789  , 40.888725,\n",
       "        40.89855 , 40.908375, 40.9182  , 40.928025, 40.93785 , 40.947675,\n",
       "        40.9575  , 40.967325, 40.97715 , 40.986975, 40.9968  , 41.006625,\n",
       "        41.01645 , 41.026275, 41.0361  , 41.045925, 41.05575 , 41.065575,\n",
       "        41.0754  , 41.085225, 41.09505 , 41.104875, 41.1147  , 41.124525,\n",
       "        41.13435 , 41.144175, 41.154   , 41.163825, 41.17365 , 41.183475,\n",
       "        41.1933  , 41.203125, 41.21295 , 41.222775, 41.2326  , 41.242425,\n",
       "        41.25225 , 41.262075, 41.2719  , 41.281725, 41.29155 , 41.301375,\n",
       "        41.3112  , 41.321025, 41.33085 , 41.340675, 41.3505  , 41.360325,\n",
       "        41.37015 , 41.379975, 41.3898  , 41.399625, 41.40945 , 41.419275,\n",
       "        41.4291  , 41.438925, 41.44875 , 41.458575, 41.4684  , 41.478225,\n",
       "        41.48805 , 41.497875, 41.5077  , 41.517525, 41.52735 , 41.537175,\n",
       "        41.547   , 41.556825, 41.56665 , 41.576475, 41.5863  , 41.596125,\n",
       "        41.60595 , 41.615775, 41.6256  , 41.635425, 41.64525 , 41.655075,\n",
       "        41.6649  , 41.674725, 41.68455 , 41.694375, 41.7042  , 41.714025,\n",
       "        41.72385 , 41.733675, 41.7435  , 41.753325, 41.76315 , 41.772975,\n",
       "        41.7828  , 41.792625, 41.80245 , 41.812275, 41.8221  , 41.831925,\n",
       "        41.84175 , 41.851575, 41.8614  , 41.871225, 41.88105 , 41.890875,\n",
       "        41.9007  , 41.910525, 41.92035 , 41.930175, 41.94    ]),\n",
       " <a list of 400 Patch objects>)"
      ]
     },
     "execution_count": 41,
     "metadata": {},
     "output_type": "execute_result"
    }
   ],
   "source": [
    "figure(figsize=(10,5))\n",
    "\n",
    "idx = (tspike>500) & (tspike<1000)\n",
    "projections = stp.spikes_to_pcs(tspike[idx],spikes[idx],0.1,20,6)\n",
    "subplot(121)\n",
    "plot(projections[0][:,0],projections[0][:,2])\n",
    "title('plasticity on')\n",
    "\n",
    "ST=MSE.spike_trains()\n",
    "ISI = []\n",
    "allISI = np.array(0)\n",
    "for i in range(attractor_size):\n",
    "    st = ST[attractor_nodes[i]]/ms\n",
    "    idx = (st>500) & (st<1500)\n",
    "    train = st[idx]\n",
    "    ISI.append(train[1:]-train[:-1])\n",
    "    if i==0:\n",
    "        allISI = np.asarray(train[1:]-train[:-1])\n",
    "    else:\n",
    "        allISI = np.concatenate((allISI,np.asarray(train[1:]-train[:-1])))\n",
    "\n",
    "subplot(122)\n",
    "allISI = allISI[allISI<42]\n",
    "allISI = allISI[allISI>38]\n",
    "hist(allISI,400)"
   ]
  },
  {
   "cell_type": "code",
   "execution_count": 17,
   "metadata": {},
   "outputs": [
    {
     "data": {
      "application/vnd.jupyter.widget-view+json": {
       "model_id": "686b619c12bb4bdda7382fd85df36fcf",
       "version_major": 2,
       "version_minor": 0
      },
      "text/plain": [
       "Canvas(toolbar=Toolbar(toolitems=[('Home', 'Reset original view', 'home', 'home'), ('Back', 'Back to previous …"
      ]
     },
     "metadata": {},
     "output_type": "display_data"
    },
    {
     "name": "stdout",
     "output_type": "stream",
     "text": [
      "PCA: explained variance ratio:  [0.20989311 0.12692432 0.09856874 0.08559809 0.07766186]\n",
      "PCA: explained variance ratio:  [0.0319646  0.02902332 0.02851587 0.0265619  0.02612815]\n"
     ]
    },
    {
     "data": {
      "text/plain": [
       "Text(0.5, 1.0, 'plasticity off')"
      ]
     },
     "execution_count": 17,
     "metadata": {},
     "output_type": "execute_result"
    }
   ],
   "source": [
    "figure(figsize=(10,5))\n",
    "\n",
    "idx = (tspike>1500) & (tspike<2500)\n",
    "projections = stp.spikes_to_pcs(tspike[idx],spikes[idx],0.1,20,5)\n",
    "subplot(121)\n",
    "plot(projections[0][:,0],projections[0][:,1])\n",
    "title('plasticity on')\n",
    "\n",
    "idx = (tspike>3500) & (tspike<4500)\n",
    "projections = stp.spikes_to_pcs(tspike[idx],spikes[idx],0.1,20,5)\n",
    "subplot(122)\n",
    "plot(projections[0][:,0],projections[0][:,1])\n",
    "title('plasticity off')"
   ]
  },
  {
   "cell_type": "code",
   "execution_count": 3,
   "metadata": {},
   "outputs": [
    {
     "data": {
      "application/vnd.jupyter.widget-view+json": {
       "model_id": "1686f6491aca4783bd7b269fdea9eccd",
       "version_major": 2,
       "version_minor": 0
      },
      "text/plain": [
       "Canvas(toolbar=Toolbar(toolitems=[('Home', 'Reset original view', 'home', 'home'), ('Back', 'Back to previous …"
      ]
     },
     "metadata": {},
     "output_type": "display_data"
    },
    {
     "name": "stderr",
     "output_type": "stream",
     "text": [
      "WARNING    <ipython-input-3-548a63dded37>:24: RuntimeWarning: divide by zero encountered in true_divide\n",
      "  freq = 1000. * (angle(cplx[1:] / cplx[:-1])) / (2. * np.pi * (timeline[1]-timeline[0]))\n",
      " [py.warnings]\n",
      "WARNING    <ipython-input-3-548a63dded37>:24: RuntimeWarning: invalid value encountered in true_divide\n",
      "  freq = 1000. * (angle(cplx[1:] / cplx[:-1])) / (2. * np.pi * (timeline[1]-timeline[0]))\n",
      " [py.warnings]\n"
     ]
    }
   ],
   "source": [
    "attractor_indices_sorted = np.argsort(attractor_nodes)\n",
    "attractor_sorted = attractor_nodes[attractor_indices_sorted]\n",
    "spikes_in_attractor = np.isin(MSE.i,attractor_nodes)\n",
    "idx_in_sort = np.searchsorted(attractor_sorted,MSE.i[spikes_in_attractor])\n",
    "time = MSE.t[spikes_in_attractor]/ms\n",
    "spikes = attractor_indices_sorted[idx_in_sort]\n",
    "\n",
    "figure(figsize=(12,12))\n",
    "subplot(331)\n",
    "plot(time, spikes, 'k.',markersize=2)\n",
    "\n",
    "subplot(332)\n",
    "wts = SEE.w/mV\n",
    "hist(wts[wts>1], 20)\n",
    "\n",
    "subplot(333)\n",
    "imshow(bws.brian_weight_submatrix(SEE,attractor_nodes,attractor_nodes))\n",
    "\n",
    "nbin = 800\n",
    "real,timeline = np.histogram(time,bins=nbin,weights=np.cos(2.0*np.pi*spikes/500))\n",
    "imag,timeline = np.histogram(time,bins=nbin,weights=np.sin(2.0*np.pi*spikes/500))\n",
    "cplx = real + 1.j * imag\n",
    "\n",
    "freq = 1000. * (angle(cplx[1:] / cplx[:-1])) / (2. * np.pi * (timeline[1]-timeline[0]))\n",
    "from scipy.signal import savgol_filter\n",
    "fhat = savgol_filter(freq, 21, 2) # window size 51, polynomial order 3\n",
    "\n",
    "subplot(336)\n",
    "plot(timeline[1:-1],freq)\n",
    "plot(timeline[1:-1],fhat,'r')\n",
    "\n",
    "subplot(339)\n",
    "plot(real,imag)\n",
    "scatter(real,imag,c=range(nbin),cmap='jet')\n",
    "\n",
    "subplot(334)\n",
    "imshow(MVE.v / mV,aspect='auto')\n",
    "subplot(335)\n",
    "plot(MSE.t/ms, MSE.i, 'ko')\n",
    "plot(MSE.t[spikes_in_attractor]/ms, MSE.i[spikes_in_attractor], 'r+')\n",
    "xlabel('Time (ms)')\n",
    "ylabel('Neuron index')\n",
    "subplot(337)\n",
    "imshow(MVI.v / mV,aspect='auto')\n",
    "subplot(338)\n",
    "plot(MSI.t/ms, MSI.i, '.k')\n",
    "xlabel('Time (ms)')\n",
    "ylabel('Neuron index')\n",
    "tight_layout()"
   ]
  },
  {
   "cell_type": "code",
   "execution_count": 8,
   "metadata": {},
   "outputs": [
    {
     "data": {
      "application/vnd.jupyter.widget-view+json": {
       "model_id": "81b14c31e67749678af8ed88d42465f2",
       "version_major": 2,
       "version_minor": 0
      },
      "text/plain": [
       "Canvas(toolbar=Toolbar(toolitems=[('Home', 'Reset original view', 'home', 'home'), ('Back', 'Back to previous …"
      ]
     },
     "metadata": {},
     "output_type": "display_data"
    }
   ],
   "source": [
    "tmin = 3002\n",
    "tmax = tmin+40\n",
    "sseg = spikes[time>tmin]\n",
    "tseg = time[time>tmin]\n",
    "sseg = sseg[tseg<tmax]\n",
    "tseg = tseg[tseg<tmax]\n",
    "\n",
    "segfreq = np.full(attractor_size,np.nan)\n",
    "segphase = np.full(attractor_size,np.nan)\n",
    "tstart = np.amin(tseg)\n",
    "for inode in range(attractor_size):\n",
    "    times = tseg[np.argwhere(sseg==inode)]\n",
    "    if times.size > 1:\n",
    "        segfreq[inode] = 1000 * (times.size-1) / (np.amax(times)-np.amin(times))\n",
    "        segphase[inode] = (2.0e-3 * np.pi * (np.amin(times)-tstart) * segfreq[inode]) % (2*np.pi)\n",
    "\n",
    "phasesort = np.argsort(segphase)\n",
    "invphase = np.full(attractor_size,np.nan)\n",
    "for idx,p in enumerate(phasesort):\n",
    "    invphase[p] = idx\n",
    "w3 = w2[:,phasesort][phasesort]\n",
    "\n",
    "figure(figsize=(10,10))\n",
    "subplot(221)\n",
    "plot(tseg, invphase[sseg], 'k.',markersize=2)\n",
    "subplot(222)\n",
    "#plot(segphase)\n",
    "scatter(attractor_nodes%nye,attractor_nodes//nye,c=segphase,cmap='gist_rainbow')\n",
    "colorbar()\n",
    "subplot(223)\n",
    "hist(segfreq[~np.isnan(segfreq)],30)\n",
    "#plot(segphase[phasesort],'.')\n",
    "subplot(224)\n",
    "imshow(w3)\n",
    "colorbar()\n",
    "tight_layout()"
   ]
  },
  {
   "cell_type": "code",
   "execution_count": 17,
   "metadata": {},
   "outputs": [
    {
     "name": "stdout",
     "output_type": "stream",
     "text": [
      "500\n"
     ]
    }
   ],
   "source": [
    "print(len(phasesort))"
   ]
  },
  {
   "cell_type": "code",
   "execution_count": 29,
   "metadata": {},
   "outputs": [
    {
     "data": {
      "text/html": [
       "\n",
       "        <table>\n",
       "        <thead>\n",
       "        <tr>\n",
       "            <th style=\"text-align: center;\">object</th>\n",
       "            <th style=\"text-align: center;\">part of</th>\n",
       "            <th style=\"text-align: center;\">Clock dt</th>\n",
       "            <th style=\"text-align: center;\">when</th>\n",
       "            <th style=\"text-align: center;\">order</th>\n",
       "            <th style=\"text-align: center;\">active</th>\n",
       "        </tr>\n",
       "        </thead>\n",
       "        <tbody>\n",
       "        <tr>\n",
       "            <td style=\"text-align: left;\"><b>statemonitor</b> (<em>StateMonitor</em>)</td>\n",
       "            <td style=\"text-align: left;\">statemonitor (<em>StateMonitor</em>)</td>\n",
       "            <td style=\"text-align: left;\">1. ms (every 5 steps)</td>\n",
       "            <td style=\"text-align: left;\">start</td>\n",
       "            <td style=\"text-align: right;\">0</td>\n",
       "            <td style=\"text-align: center;\">yes</td>\n",
       "        </tr>\n",
       "        \n",
       "        <tr>\n",
       "            <td style=\"text-align: left;\"><b>statemonitor_2</b> (<em>StateMonitor</em>)</td>\n",
       "            <td style=\"text-align: left;\">statemonitor_2 (<em>StateMonitor</em>)</td>\n",
       "            <td style=\"text-align: left;\">1. ms (every 5 steps)</td>\n",
       "            <td style=\"text-align: left;\">start</td>\n",
       "            <td style=\"text-align: right;\">0</td>\n",
       "            <td style=\"text-align: center;\">yes</td>\n",
       "        </tr>\n",
       "        \n",
       "        <tr>\n",
       "            <td style=\"text-align: left;\"><b>neurongroup_2_stateupdater</b> (<em>StateUpdater</em>)</td>\n",
       "            <td style=\"text-align: left;\">neurongroup_2 (<em>NeuronGroup</em>)</td>\n",
       "            <td style=\"text-align: left;\">200. us (every step)</td>\n",
       "            <td style=\"text-align: left;\">groups</td>\n",
       "            <td style=\"text-align: right;\">0</td>\n",
       "            <td style=\"text-align: center;\">yes</td>\n",
       "        </tr>\n",
       "        \n",
       "        <tr>\n",
       "            <td style=\"text-align: left;\"><b>neurongroup_3_stateupdater</b> (<em>StateUpdater</em>)</td>\n",
       "            <td style=\"text-align: left;\">neurongroup_3 (<em>NeuronGroup</em>)</td>\n",
       "            <td style=\"text-align: left;\">200. us (every step)</td>\n",
       "            <td style=\"text-align: left;\">groups</td>\n",
       "            <td style=\"text-align: right;\">0</td>\n",
       "            <td style=\"text-align: center;\">yes</td>\n",
       "        </tr>\n",
       "        \n",
       "        <tr>\n",
       "            <td style=\"text-align: left;\"><b>neurongroup_2_thresholder</b> (<em>Thresholder</em>)</td>\n",
       "            <td style=\"text-align: left;\">neurongroup_2 (<em>NeuronGroup</em>)</td>\n",
       "            <td style=\"text-align: left;\">200. us (every step)</td>\n",
       "            <td style=\"text-align: left;\">thresholds</td>\n",
       "            <td style=\"text-align: right;\">0</td>\n",
       "            <td style=\"text-align: center;\">yes</td>\n",
       "        </tr>\n",
       "        \n",
       "        <tr>\n",
       "            <td style=\"text-align: left;\"><b>neurongroup_3_thresholder</b> (<em>Thresholder</em>)</td>\n",
       "            <td style=\"text-align: left;\">neurongroup_3 (<em>NeuronGroup</em>)</td>\n",
       "            <td style=\"text-align: left;\">200. us (every step)</td>\n",
       "            <td style=\"text-align: left;\">thresholds</td>\n",
       "            <td style=\"text-align: right;\">0</td>\n",
       "            <td style=\"text-align: center;\">yes</td>\n",
       "        </tr>\n",
       "        \n",
       "        <tr>\n",
       "            <td style=\"text-align: left;\"><b>poissongroup_1_thresholder</b> (<em>Thresholder</em>)</td>\n",
       "            <td style=\"text-align: left;\">poissongroup_1 (<em>PoissonGroup</em>)</td>\n",
       "            <td style=\"text-align: left;\">200. us (every step)</td>\n",
       "            <td style=\"text-align: left;\">thresholds</td>\n",
       "            <td style=\"text-align: right;\">0</td>\n",
       "            <td style=\"text-align: center;\">yes</td>\n",
       "        </tr>\n",
       "        \n",
       "        <tr>\n",
       "            <td style=\"text-align: left;\"><b>spikemonitor</b> (<em>SpikeMonitor</em>)</td>\n",
       "            <td style=\"text-align: left;\">spikemonitor (<em>SpikeMonitor</em>)</td>\n",
       "            <td style=\"text-align: left;\">200. us (every step)</td>\n",
       "            <td style=\"text-align: left;\">thresholds</td>\n",
       "            <td style=\"text-align: right;\">1</td>\n",
       "            <td style=\"text-align: center;\">yes</td>\n",
       "        </tr>\n",
       "        \n",
       "        <tr>\n",
       "            <td style=\"text-align: left;\"><b>spikemonitor_2</b> (<em>SpikeMonitor</em>)</td>\n",
       "            <td style=\"text-align: left;\">spikemonitor_2 (<em>SpikeMonitor</em>)</td>\n",
       "            <td style=\"text-align: left;\">200. us (every step)</td>\n",
       "            <td style=\"text-align: left;\">thresholds</td>\n",
       "            <td style=\"text-align: right;\">1</td>\n",
       "            <td style=\"text-align: center;\">yes</td>\n",
       "        </tr>\n",
       "        \n",
       "        <tr>\n",
       "            <td style=\"text-align: left;\"><b>synapses_1_pre</b> (<em>SynapticPathway</em>)</td>\n",
       "            <td style=\"text-align: left;\">synapses_1 (<em>Synapses</em>)</td>\n",
       "            <td style=\"text-align: left;\">200. us (every step)</td>\n",
       "            <td style=\"text-align: left;\">synapses</td>\n",
       "            <td style=\"text-align: right;\">-1</td>\n",
       "            <td style=\"text-align: center;\">yes</td>\n",
       "        </tr>\n",
       "        \n",
       "        <tr>\n",
       "            <td style=\"text-align: left;\"><b>synapses_3_pre</b> (<em>SynapticPathway</em>)</td>\n",
       "            <td style=\"text-align: left;\">synapses_3 (<em>Synapses</em>)</td>\n",
       "            <td style=\"text-align: left;\">200. us (every step)</td>\n",
       "            <td style=\"text-align: left;\">synapses</td>\n",
       "            <td style=\"text-align: right;\">-1</td>\n",
       "            <td style=\"text-align: center;\">yes</td>\n",
       "        </tr>\n",
       "        \n",
       "        <tr>\n",
       "            <td style=\"text-align: left;\"><b>synapses_4_pre</b> (<em>SynapticPathway</em>)</td>\n",
       "            <td style=\"text-align: left;\">synapses_4 (<em>Synapses</em>)</td>\n",
       "            <td style=\"text-align: left;\">200. us (every step)</td>\n",
       "            <td style=\"text-align: left;\">synapses</td>\n",
       "            <td style=\"text-align: right;\">-1</td>\n",
       "            <td style=\"text-align: center;\">yes</td>\n",
       "        </tr>\n",
       "        \n",
       "        <tr>\n",
       "            <td style=\"text-align: left;\"><b>synapses_pre</b> (<em>SynapticPathway</em>)</td>\n",
       "            <td style=\"text-align: left;\">synapses (<em>Synapses</em>)</td>\n",
       "            <td style=\"text-align: left;\">200. us (every step)</td>\n",
       "            <td style=\"text-align: left;\">synapses</td>\n",
       "            <td style=\"text-align: right;\">-1</td>\n",
       "            <td style=\"text-align: center;\">yes</td>\n",
       "        </tr>\n",
       "        \n",
       "        <tr>\n",
       "            <td style=\"text-align: left;\"><b>synapses_4_post</b> (<em>SynapticPathway</em>)</td>\n",
       "            <td style=\"text-align: left;\">synapses_4 (<em>Synapses</em>)</td>\n",
       "            <td style=\"text-align: left;\">200. us (every step)</td>\n",
       "            <td style=\"text-align: left;\">synapses</td>\n",
       "            <td style=\"text-align: right;\">1</td>\n",
       "            <td style=\"text-align: center;\">yes</td>\n",
       "        </tr>\n",
       "        \n",
       "        <tr>\n",
       "            <td style=\"text-align: left;\"><b>neurongroup_2_resetter</b> (<em>Resetter</em>)</td>\n",
       "            <td style=\"text-align: left;\">neurongroup_2 (<em>NeuronGroup</em>)</td>\n",
       "            <td style=\"text-align: left;\">200. us (every step)</td>\n",
       "            <td style=\"text-align: left;\">resets</td>\n",
       "            <td style=\"text-align: right;\">0</td>\n",
       "            <td style=\"text-align: center;\">yes</td>\n",
       "        </tr>\n",
       "        \n",
       "        <tr>\n",
       "            <td style=\"text-align: left;\"><b>neurongroup_3_resetter</b> (<em>Resetter</em>)</td>\n",
       "            <td style=\"text-align: left;\">neurongroup_3 (<em>NeuronGroup</em>)</td>\n",
       "            <td style=\"text-align: left;\">200. us (every step)</td>\n",
       "            <td style=\"text-align: left;\">resets</td>\n",
       "            <td style=\"text-align: right;\">0</td>\n",
       "            <td style=\"text-align: center;\">yes</td>\n",
       "        </tr>\n",
       "        \n",
       "        </tbody>\n",
       "        </table>\n",
       "        "
      ],
      "text/plain": [
       "                 object                   |            part of            |       Clock dt        |    when    | order | active\n",
       "------------------------------------------+-------------------------------+-----------------------+------------+-------+-------\n",
       "statemonitor (StateMonitor)               | statemonitor (StateMonitor)   | 1. ms (every 5 steps) | start      |     0 |  yes  \n",
       "statemonitor_2 (StateMonitor)             | statemonitor_2 (StateMonitor) | 1. ms (every 5 steps) | start      |     0 |  yes  \n",
       "neurongroup_2_stateupdater (StateUpdater) | neurongroup_2 (NeuronGroup)   | 200. us (every step)  | groups     |     0 |  yes  \n",
       "neurongroup_3_stateupdater (StateUpdater) | neurongroup_3 (NeuronGroup)   | 200. us (every step)  | groups     |     0 |  yes  \n",
       "neurongroup_2_thresholder (Thresholder)   | neurongroup_2 (NeuronGroup)   | 200. us (every step)  | thresholds |     0 |  yes  \n",
       "neurongroup_3_thresholder (Thresholder)   | neurongroup_3 (NeuronGroup)   | 200. us (every step)  | thresholds |     0 |  yes  \n",
       "poissongroup_1_thresholder (Thresholder)  | poissongroup_1 (PoissonGroup) | 200. us (every step)  | thresholds |     0 |  yes  \n",
       "spikemonitor (SpikeMonitor)               | spikemonitor (SpikeMonitor)   | 200. us (every step)  | thresholds |     1 |  yes  \n",
       "spikemonitor_2 (SpikeMonitor)             | spikemonitor_2 (SpikeMonitor) | 200. us (every step)  | thresholds |     1 |  yes  \n",
       "synapses_1_pre (SynapticPathway)          | synapses_1 (Synapses)         | 200. us (every step)  | synapses   |    -1 |  yes  \n",
       "synapses_3_pre (SynapticPathway)          | synapses_3 (Synapses)         | 200. us (every step)  | synapses   |    -1 |  yes  \n",
       "synapses_4_pre (SynapticPathway)          | synapses_4 (Synapses)         | 200. us (every step)  | synapses   |    -1 |  yes  \n",
       "synapses_pre (SynapticPathway)            | synapses (Synapses)           | 200. us (every step)  | synapses   |    -1 |  yes  \n",
       "synapses_4_post (SynapticPathway)         | synapses_4 (Synapses)         | 200. us (every step)  | synapses   |     1 |  yes  \n",
       "neurongroup_2_resetter (Resetter)         | neurongroup_2 (NeuronGroup)   | 200. us (every step)  | resets     |     0 |  yes  \n",
       "neurongroup_3_resetter (Resetter)         | neurongroup_3 (NeuronGroup)   | 200. us (every step)  | resets     |     0 |  yes  "
      ]
     },
     "execution_count": 29,
     "metadata": {},
     "output_type": "execute_result"
    }
   ],
   "source": [
    "scheduling_summary()"
   ]
  },
  {
   "cell_type": "code",
   "execution_count": 9,
   "metadata": {},
   "outputs": [
    {
     "data": {
      "application/vnd.jupyter.widget-view+json": {
       "model_id": "ec9906ab42ca40cb8ddce4b3d6168ba7",
       "version_major": 2,
       "version_minor": 0
      },
      "text/plain": [
       "Canvas(toolbar=Toolbar(toolitems=[('Home', 'Reset original view', 'home', 'home'), ('Back', 'Back to previous …"
      ]
     },
     "metadata": {},
     "output_type": "display_data"
    }
   ],
   "source": [
    "figure(figsize=(12,4))\n",
    "subplot(131)\n",
    "imshow(w1)\n",
    "colorbar()\n",
    "subplot(132)\n",
    "imshow(w2)\n",
    "colorbar()\n",
    "subplot(133)\n",
    "plot(ds.diagonal_sums(w1))\n",
    "plot(ds.diagonal_sums(w2),'r')\n",
    "tight_layout()"
   ]
  },
  {
   "cell_type": "code",
   "execution_count": 16,
   "metadata": {},
   "outputs": [
    {
     "data": {
      "application/vnd.jupyter.widget-view+json": {
       "model_id": "4d6cf2f50ec94759abe9fd3edcd3009c",
       "version_major": 2,
       "version_minor": 0
      },
      "text/plain": [
       "Canvas(toolbar=Toolbar(toolitems=[('Home', 'Reset original view', 'home', 'home'), ('Back', 'Back to previous …"
      ]
     },
     "metadata": {},
     "output_type": "display_data"
    }
   ],
   "source": [
    "import matplotlib.pyplot as plt\n",
    "from matplotlib.collections import LineCollection\n",
    "\n",
    "import numpy as np\n",
    "\n",
    "N = w1.shape[0]\n",
    "dest,src = np.meshgrid(range(N),range(N))\n",
    "src = src.flatten()\n",
    "dest = dest.flatten()\n",
    "xdest = np.cos(2*np.pi*dest/N)\n",
    "ydest = np.sin(2*np.pi*dest/N)\n",
    "xsrc = np.cos(2*np.pi*src/N)\n",
    "ysrc = np.sin(2*np.pi*src/N)\n",
    "\n",
    "segs = np.zeros((N*N, 2, 2))\n",
    "segs[:, 0, 0] = xsrc\n",
    "segs[:, 0, 1] = ysrc\n",
    "segs[:, 1, 0] = xdest\n",
    "segs[:, 1, 1] = ydest\n",
    "\n",
    "fig, ax = plt.subplots(figsize=(10,10))\n",
    "ax.set_xlim(-1.1, 1.1)\n",
    "ax.set_ylim(-1.1, 1.1)\n",
    "\n",
    "line_segments = LineCollection(segs, linewidths=0.01*w1.flatten())\n",
    "\n",
    "ax.add_collection(line_segments)\n",
    "plt.show()"
   ]
  },
  {
   "cell_type": "code",
   "execution_count": 9,
   "metadata": {},
   "outputs": [
    {
     "data": {
      "application/vnd.jupyter.widget-view+json": {
       "model_id": "9de019f5b019456ea040f00e42a532ce",
       "version_major": 2,
       "version_minor": 0
      },
      "text/plain": [
       "Canvas(toolbar=Toolbar(toolitems=[('Home', 'Reset original view', 'home', 'home'), ('Back', 'Back to previous …"
      ]
     },
     "metadata": {},
     "output_type": "display_data"
    },
    {
     "name": "stderr",
     "output_type": "stream",
     "text": [
      "WARNING    <ipython-input-9-f9826f9c0588>:15: MatplotlibDeprecationWarning: Adding an axes using the same arguments as a previous axes currently reuses the earlier instance.  In a future version, a new instance will always be created and returned.  Meanwhile, this warning can be suppressed, and the future behavior ensured, by passing a unique label to each axes instance.\n",
      "  subplot(131)\n",
      " [py.warnings]\n",
      "WARNING    <ipython-input-9-f9826f9c0588>:20: MatplotlibDeprecationWarning: Adding an axes using the same arguments as a previous axes currently reuses the earlier instance.  In a future version, a new instance will always be created and returned.  Meanwhile, this warning can be suppressed, and the future behavior ensured, by passing a unique label to each axes instance.\n",
      "  subplot(132)\n",
      " [py.warnings]\n",
      "WARNING    <ipython-input-9-f9826f9c0588>:24: MatplotlibDeprecationWarning: Adding an axes using the same arguments as a previous axes currently reuses the earlier instance.  In a future version, a new instance will always be created and returned.  Meanwhile, this warning can be suppressed, and the future behavior ensured, by passing a unique label to each axes instance.\n",
      "  subplot(133)\n",
      " [py.warnings]\n"
     ]
    },
    {
     "data": {
      "text/plain": [
       "[<matplotlib.lines.Line2D at 0x7f882002a0a0>]"
      ]
     },
     "execution_count": 9,
     "metadata": {},
     "output_type": "execute_result"
    }
   ],
   "source": [
    "figure(figsize=(12,4))\n",
    "subplot(131)\n",
    "idx = 0\n",
    "targets = SEE.j[idx, :] \n",
    "plot(E.x[targets] / cm, E.y[targets] / cm, 'r.')\n",
    "\n",
    "subplot(132)\n",
    "targets = SEI.j[idx, :] \n",
    "plot(I.x[targets] / cm, I.y[targets] / cm, 'r.')\n",
    "\n",
    "subplot(133)\n",
    "targets = SIE.j[idx, :] \n",
    "plot(E.x[targets] / cm, E.y[targets] / cm, 'r.')\n",
    "\n",
    "subplot(131)\n",
    "idx = 5150\n",
    "targets = SEE.j[idx, :] \n",
    "plot(E.x[targets] / cm, E.y[targets] / cm, '.')\n",
    "\n",
    "subplot(132)\n",
    "targets = SEI.j[idx, :] \n",
    "plot(I.x[targets] / cm, I.y[targets] / cm, '.')\n",
    "\n",
    "subplot(133)\n",
    "idx = 820\n",
    "targets = SIE.j[idx, :] \n",
    "plot(E.x[targets] / cm, E.y[targets] / cm, '.')"
   ]
  },
  {
   "cell_type": "code",
   "execution_count": 4,
   "metadata": {},
   "outputs": [
    {
     "name": "stdout",
     "output_type": "stream",
     "text": [
      "0.23094016687739957 0.2412829279812967 250000 38810 1.4876331285583586\n"
     ]
    }
   ],
   "source": [
    "print(np.mean(w1),np.mean(w2),w1.size,np.count_nonzero(w1),np.mean(w1)*w1.size/np.count_nonzero(w1))\n"
   ]
  },
  {
   "cell_type": "code",
   "execution_count": 4,
   "metadata": {},
   "outputs": [],
   "source": [
    "import pickle\n",
    "time = MSE.t[spikes_in_attractor]/ms\n",
    "spikes = attractor_indices_sorted[idx_in_sort]\n",
    "mylist = [time,spikes]\n",
    "with open('example_spikes2.pkl', 'wb') as f:\n",
    "    pickle.dump(mylist, f)"
   ]
  },
  {
   "cell_type": "code",
   "execution_count": 10,
   "metadata": {},
   "outputs": [
    {
     "name": "stdout",
     "output_type": "stream",
     "text": [
      "<defaultclock.t: 2.8 * second>\n"
     ]
    }
   ],
   "source": [
    "print(defaultclock.t)"
   ]
  },
  {
   "cell_type": "code",
   "execution_count": 35,
   "metadata": {},
   "outputs": [
    {
     "name": "stdout",
     "output_type": "stream",
     "text": [
      "False\n"
     ]
    }
   ],
   "source": [
    "print(not STDP_immediate)"
   ]
  },
  {
   "cell_type": "code",
   "execution_count": 7,
   "metadata": {},
   "outputs": [],
   "source": [
    "with open('params.csv', 'w') as f:\n",
    "    f.write(s)"
   ]
  },
  {
   "cell_type": "code",
   "execution_count": 11,
   "metadata": {},
   "outputs": [
    {
     "data": {
      "text/plain": [
       "['__add__',\n",
       " '__array__',\n",
       " '__array_prepare__',\n",
       " '__array_wrap__',\n",
       " '__class__',\n",
       " '__delattr__',\n",
       " '__dict__',\n",
       " '__dir__',\n",
       " '__div__',\n",
       " '__doc__',\n",
       " '__eq__',\n",
       " '__floordiv__',\n",
       " '__format__',\n",
       " '__ge__',\n",
       " '__getattribute__',\n",
       " '__getitem__',\n",
       " '__gt__',\n",
       " '__hash__',\n",
       " '__iadd__',\n",
       " '__idiv__',\n",
       " '__imul__',\n",
       " '__init__',\n",
       " '__init_subclass__',\n",
       " '__isub__',\n",
       " '__le__',\n",
       " '__len__',\n",
       " '__lt__',\n",
       " '__module__',\n",
       " '__mul__',\n",
       " '__ne__',\n",
       " '__neg__',\n",
       " '__new__',\n",
       " '__pos__',\n",
       " '__radd__',\n",
       " '__rdiv__',\n",
       " '__reduce__',\n",
       " '__reduce_ex__',\n",
       " '__repr__',\n",
       " '__rfloordiv__',\n",
       " '__rmul__',\n",
       " '__rsub__',\n",
       " '__rtruediv__',\n",
       " '__setattr__',\n",
       " '__setitem__',\n",
       " '__sizeof__',\n",
       " '__str__',\n",
       " '__sub__',\n",
       " '__subclasshook__',\n",
       " '__truediv__',\n",
       " '__weakref__',\n",
       " 'dim',\n",
       " 'dtype',\n",
       " 'get_item',\n",
       " 'get_subexpression_with_index_array',\n",
       " 'get_with_expression',\n",
       " 'get_with_index_array',\n",
       " 'group',\n",
       " 'group_name',\n",
       " 'index_var',\n",
       " 'index_var_name',\n",
       " 'indexing',\n",
       " 'name',\n",
       " 'set_item',\n",
       " 'set_with_expression',\n",
       " 'set_with_expression_conditional',\n",
       " 'set_with_index_array',\n",
       " 'shape',\n",
       " 'unit',\n",
       " 'variable']"
      ]
     },
     "execution_count": 11,
     "metadata": {},
     "output_type": "execute_result"
    }
   ],
   "source": [
    "dir(SEE.delay)"
   ]
  },
  {
   "cell_type": "code",
   "execution_count": 17,
   "metadata": {},
   "outputs": [
    {
     "name": "stdout",
     "output_type": "stream",
     "text": [
      "1.27121989 ms (19181504,) (19181504,)\n"
     ]
    }
   ],
   "source": [
    "print(SEE.delay[323],SEE.j.shape,SEE.w.shape)"
   ]
  },
  {
   "cell_type": "code",
   "execution_count": 17,
   "metadata": {},
   "outputs": [
    {
     "name": "stdout",
     "output_type": "stream",
     "text": [
      "(406,)\n"
     ]
    }
   ],
   "source": [
    "print(segfreq[~np.isnan(segfreq)].T.shape)"
   ]
  },
  {
   "cell_type": "code",
   "execution_count": 8,
   "metadata": {},
   "outputs": [
    {
     "name": "stdout",
     "output_type": "stream",
     "text": [
      "(500,)\n"
     ]
    }
   ],
   "source": [
    "print(segfreq.shape)"
   ]
  },
  {
   "cell_type": "code",
   "execution_count": null,
   "metadata": {},
   "outputs": [],
   "source": []
  }
 ],
 "metadata": {
  "kernelspec": {
   "display_name": "Python 3",
   "language": "python",
   "name": "python3"
  },
  "language_info": {
   "codemirror_mode": {
    "name": "ipython",
    "version": 3
   },
   "file_extension": ".py",
   "mimetype": "text/x-python",
   "name": "python",
   "nbconvert_exporter": "python",
   "pygments_lexer": "ipython3",
   "version": "3.8.2"
  },
  "toc-autonumbering": true,
  "toc-showcode": false,
  "toc-showmarkdowntxt": false,
  "toc-showtags": false
 },
 "nbformat": 4,
 "nbformat_minor": 4
}
